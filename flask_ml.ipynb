{
 "cells": [
  {
   "cell_type": "code",
   "execution_count": 1,
   "metadata": {},
   "outputs": [],
   "source": [
    "import os\n",
    "import numpy as np                                          # arrays and matrix math\n",
    "import pandas as pd                                         # DataFrames\n",
    "\n",
    "from sklearn import metrics                                 # measures to check our models\n",
    "from sklearn.model_selection import train_test_split        # train and test split\n",
    "from sklearn.ensemble import RandomForestRegressor          # random forest method\n",
    "from sklearn.cluster import KMeans\n",
    "import joblib\n",
    "\n",
    "\n",
    "#modules\n",
    "import pymongo\n",
    "import dns\n",
    "from datetime import date\n",
    "from config import mongo_uri\n",
    "import pprint\n",
    "import json"
   ]
  },
  {
   "cell_type": "code",
   "execution_count": 2,
   "metadata": {},
   "outputs": [],
   "source": [
    "#connect to mongo db\n",
    "client = pymongo.MongoClient(mongo_uri)"
   ]
  },
  {
   "cell_type": "code",
   "execution_count": 3,
   "metadata": {},
   "outputs": [],
   "source": [
    "top_tracks = client.spotify['user-data'].find({'name':'Henry Byoun'})[0]['top_50_tracks']"
   ]
  },
  {
   "cell_type": "code",
   "execution_count": 5,
   "metadata": {},
   "outputs": [],
   "source": [
    "danceability = []\n",
    "energy = []\n",
    "speechiness = []\n",
    "instrumentalness = []\n",
    "liveness = []\n",
    "valence = []\n",
    "tempo = []\n",
    "\n",
    "\n",
    "\n",
    "for i in range(len(top_tracks)):\n",
    "    danceability.append(top_tracks[i]['audio_features'][0]['danceability'])\n",
    "    energy.append(top_tracks[i]['audio_features'][0]['energy'])   \n",
    "    speechiness.append(top_tracks[i]['audio_features'][0]['speechiness'])   \n",
    "    instrumentalness.append(top_tracks[i]['audio_features'][0]['instrumentalness']) \n",
    "    liveness.append(top_tracks[i]['audio_features'][0]['liveness']) \n",
    "    valence.append(top_tracks[i]['audio_features'][0]['valence'])  \n",
    "    tempo.append(top_tracks[i]['audio_features'][0]['tempo'])  \n",
    " "
   ]
  },
  {
   "cell_type": "code",
   "execution_count": 6,
   "metadata": {},
   "outputs": [],
   "source": [
    "dance = np.mean(danceability)\n",
    "en = np.mean(energy)\n",
    "speech = np.mean(speechiness)\n",
    "inst = np.mean(instrumentalness)\n",
    "live = np.mean(liveness)\n",
    "val = np.mean(valence)\n",
    "temp = np.mean(tempo)"
   ]
  },
  {
   "cell_type": "code",
   "execution_count": 11,
   "metadata": {},
   "outputs": [],
   "source": [
    "data = [(dance,en,speech,inst,live,val,temp)]"
   ]
  },
  {
   "cell_type": "code",
   "execution_count": 12,
   "metadata": {},
   "outputs": [
    {
     "data": {
      "text/plain": [
       "[(0.5416799999999999,\n",
       "  0.618714,\n",
       "  0.07999200000000001,\n",
       "  0.08528957499999999,\n",
       "  0.15297200000000002,\n",
       "  0.4505759999999999,\n",
       "  122.93969999999999)]"
      ]
     },
     "execution_count": 12,
     "metadata": {},
     "output_type": "execute_result"
    }
   ],
   "source": [
    "data"
   ]
  },
  {
   "cell_type": "code",
   "execution_count": 20,
   "metadata": {},
   "outputs": [],
   "source": [
    "'''\n",
    "The entries below have to follow the order. \n",
    "['danceability','energy','speechiness','instrumentalness','liveness','valence','tempo']\n",
    "'''\n",
    "\n",
    "\n",
    "filename = 'finalized_model.sav'\n",
    "loaded_model = joblib.load(filename)\n",
    "predicted_cluster = int(loaded_model.predict(data))"
   ]
  },
  {
   "cell_type": "code",
   "execution_count": 14,
   "metadata": {},
   "outputs": [],
   "source": [
    "df = pd.read_csv('clustered_data.csv')"
   ]
  },
  {
   "cell_type": "code",
   "execution_count": 15,
   "metadata": {},
   "outputs": [],
   "source": [
    "df_selected = df[df['cluster_num'] == predicted_cluster]"
   ]
  },
  {
   "cell_type": "code",
   "execution_count": 16,
   "metadata": {},
   "outputs": [],
   "source": [
    "rec = df_selected.sample(5)"
   ]
  },
  {
   "cell_type": "code",
   "execution_count": 17,
   "metadata": {},
   "outputs": [
    {
     "data": {
      "text/html": [
       "<div>\n",
       "<style scoped>\n",
       "    .dataframe tbody tr th:only-of-type {\n",
       "        vertical-align: middle;\n",
       "    }\n",
       "\n",
       "    .dataframe tbody tr th {\n",
       "        vertical-align: top;\n",
       "    }\n",
       "\n",
       "    .dataframe thead th {\n",
       "        text-align: right;\n",
       "    }\n",
       "</style>\n",
       "<table border=\"1\" class=\"dataframe\">\n",
       "  <thead>\n",
       "    <tr style=\"text-align: right;\">\n",
       "      <th></th>\n",
       "      <th>track</th>\n",
       "      <th>artist</th>\n",
       "      <th>uri</th>\n",
       "      <th>danceability</th>\n",
       "      <th>energy</th>\n",
       "      <th>speechiness</th>\n",
       "      <th>instrumentalness</th>\n",
       "      <th>liveness</th>\n",
       "      <th>valence</th>\n",
       "      <th>tempo</th>\n",
       "      <th>chorus_hit</th>\n",
       "      <th>cluster_num</th>\n",
       "    </tr>\n",
       "  </thead>\n",
       "  <tbody>\n",
       "    <tr>\n",
       "      <td>39944</td>\n",
       "      <td>Eu Me Tornei um Mutante</td>\n",
       "      <td>Zumbis Do Espaço</td>\n",
       "      <td>spotify:track:2CqLn9YHk9tRDZmg0oms7U</td>\n",
       "      <td>0.452</td>\n",
       "      <td>0.917</td>\n",
       "      <td>0.0667</td>\n",
       "      <td>0.000019</td>\n",
       "      <td>0.0901</td>\n",
       "      <td>0.415</td>\n",
       "      <td>103.627</td>\n",
       "      <td>106.09566</td>\n",
       "      <td>450</td>\n",
       "    </tr>\n",
       "    <tr>\n",
       "      <td>15881</td>\n",
       "      <td>Witch of Endor - Instrumental</td>\n",
       "      <td>Moondog</td>\n",
       "      <td>spotify:track:51W1ugFbwJGA74yCd5iHhB</td>\n",
       "      <td>0.292</td>\n",
       "      <td>0.418</td>\n",
       "      <td>0.0352</td>\n",
       "      <td>0.170000</td>\n",
       "      <td>0.1440</td>\n",
       "      <td>0.182</td>\n",
       "      <td>103.624</td>\n",
       "      <td>100.71820</td>\n",
       "      <td>450</td>\n",
       "    </tr>\n",
       "    <tr>\n",
       "      <td>26798</td>\n",
       "      <td>Take Me To The River</td>\n",
       "      <td>Talking Heads</td>\n",
       "      <td>spotify:track:1oV1tu8utgHQjLJsEK9sVl</td>\n",
       "      <td>0.660</td>\n",
       "      <td>0.485</td>\n",
       "      <td>0.0258</td>\n",
       "      <td>0.010200</td>\n",
       "      <td>0.0585</td>\n",
       "      <td>0.829</td>\n",
       "      <td>99.828</td>\n",
       "      <td>100.85550</td>\n",
       "      <td>450</td>\n",
       "    </tr>\n",
       "    <tr>\n",
       "      <td>11106</td>\n",
       "      <td>Overstepping</td>\n",
       "      <td>Belmont</td>\n",
       "      <td>spotify:track:79XKPlY5fagGd2iXhDPrEs</td>\n",
       "      <td>0.525</td>\n",
       "      <td>0.989</td>\n",
       "      <td>0.0757</td>\n",
       "      <td>0.001680</td>\n",
       "      <td>0.3440</td>\n",
       "      <td>0.471</td>\n",
       "      <td>102.569</td>\n",
       "      <td>99.68481</td>\n",
       "      <td>450</td>\n",
       "    </tr>\n",
       "    <tr>\n",
       "      <td>18234</td>\n",
       "      <td>Magic Moon (Clair De Lune)</td>\n",
       "      <td>The Rays</td>\n",
       "      <td>spotify:track:4lD1obJ7EeHuKwpKJHIPIr</td>\n",
       "      <td>0.485</td>\n",
       "      <td>0.351</td>\n",
       "      <td>0.0253</td>\n",
       "      <td>0.000074</td>\n",
       "      <td>0.1620</td>\n",
       "      <td>0.292</td>\n",
       "      <td>102.672</td>\n",
       "      <td>99.01630</td>\n",
       "      <td>450</td>\n",
       "    </tr>\n",
       "  </tbody>\n",
       "</table>\n",
       "</div>"
      ],
      "text/plain": [
       "                               track            artist  \\\n",
       "39944        Eu Me Tornei um Mutante  Zumbis Do Espaço   \n",
       "15881  Witch of Endor - Instrumental           Moondog   \n",
       "26798           Take Me To The River     Talking Heads   \n",
       "11106                   Overstepping           Belmont   \n",
       "18234     Magic Moon (Clair De Lune)          The Rays   \n",
       "\n",
       "                                        uri  danceability  energy  \\\n",
       "39944  spotify:track:2CqLn9YHk9tRDZmg0oms7U         0.452   0.917   \n",
       "15881  spotify:track:51W1ugFbwJGA74yCd5iHhB         0.292   0.418   \n",
       "26798  spotify:track:1oV1tu8utgHQjLJsEK9sVl         0.660   0.485   \n",
       "11106  spotify:track:79XKPlY5fagGd2iXhDPrEs         0.525   0.989   \n",
       "18234  spotify:track:4lD1obJ7EeHuKwpKJHIPIr         0.485   0.351   \n",
       "\n",
       "       speechiness  instrumentalness  liveness  valence    tempo  chorus_hit  \\\n",
       "39944       0.0667          0.000019    0.0901    0.415  103.627   106.09566   \n",
       "15881       0.0352          0.170000    0.1440    0.182  103.624   100.71820   \n",
       "26798       0.0258          0.010200    0.0585    0.829   99.828   100.85550   \n",
       "11106       0.0757          0.001680    0.3440    0.471  102.569    99.68481   \n",
       "18234       0.0253          0.000074    0.1620    0.292  102.672    99.01630   \n",
       "\n",
       "       cluster_num  \n",
       "39944          450  \n",
       "15881          450  \n",
       "26798          450  \n",
       "11106          450  \n",
       "18234          450  "
      ]
     },
     "execution_count": 17,
     "metadata": {},
     "output_type": "execute_result"
    }
   ],
   "source": [
    "rec"
   ]
  },
  {
   "cell_type": "code",
   "execution_count": 18,
   "metadata": {},
   "outputs": [],
   "source": [
    "rec['uri']=rec['uri'].str.split(':').str.get(2)"
   ]
  },
  {
   "cell_type": "code",
   "execution_count": 19,
   "metadata": {},
   "outputs": [
    {
     "data": {
      "text/html": [
       "<div>\n",
       "<style scoped>\n",
       "    .dataframe tbody tr th:only-of-type {\n",
       "        vertical-align: middle;\n",
       "    }\n",
       "\n",
       "    .dataframe tbody tr th {\n",
       "        vertical-align: top;\n",
       "    }\n",
       "\n",
       "    .dataframe thead th {\n",
       "        text-align: right;\n",
       "    }\n",
       "</style>\n",
       "<table border=\"1\" class=\"dataframe\">\n",
       "  <thead>\n",
       "    <tr style=\"text-align: right;\">\n",
       "      <th></th>\n",
       "      <th>track</th>\n",
       "      <th>artist</th>\n",
       "      <th>uri</th>\n",
       "      <th>danceability</th>\n",
       "      <th>energy</th>\n",
       "      <th>speechiness</th>\n",
       "      <th>instrumentalness</th>\n",
       "      <th>liveness</th>\n",
       "      <th>valence</th>\n",
       "      <th>tempo</th>\n",
       "      <th>chorus_hit</th>\n",
       "      <th>cluster_num</th>\n",
       "    </tr>\n",
       "  </thead>\n",
       "  <tbody>\n",
       "    <tr>\n",
       "      <td>39944</td>\n",
       "      <td>Eu Me Tornei um Mutante</td>\n",
       "      <td>Zumbis Do Espaço</td>\n",
       "      <td>2CqLn9YHk9tRDZmg0oms7U</td>\n",
       "      <td>0.452</td>\n",
       "      <td>0.917</td>\n",
       "      <td>0.0667</td>\n",
       "      <td>0.000019</td>\n",
       "      <td>0.0901</td>\n",
       "      <td>0.415</td>\n",
       "      <td>103.627</td>\n",
       "      <td>106.09566</td>\n",
       "      <td>450</td>\n",
       "    </tr>\n",
       "    <tr>\n",
       "      <td>15881</td>\n",
       "      <td>Witch of Endor - Instrumental</td>\n",
       "      <td>Moondog</td>\n",
       "      <td>51W1ugFbwJGA74yCd5iHhB</td>\n",
       "      <td>0.292</td>\n",
       "      <td>0.418</td>\n",
       "      <td>0.0352</td>\n",
       "      <td>0.170000</td>\n",
       "      <td>0.1440</td>\n",
       "      <td>0.182</td>\n",
       "      <td>103.624</td>\n",
       "      <td>100.71820</td>\n",
       "      <td>450</td>\n",
       "    </tr>\n",
       "    <tr>\n",
       "      <td>26798</td>\n",
       "      <td>Take Me To The River</td>\n",
       "      <td>Talking Heads</td>\n",
       "      <td>1oV1tu8utgHQjLJsEK9sVl</td>\n",
       "      <td>0.660</td>\n",
       "      <td>0.485</td>\n",
       "      <td>0.0258</td>\n",
       "      <td>0.010200</td>\n",
       "      <td>0.0585</td>\n",
       "      <td>0.829</td>\n",
       "      <td>99.828</td>\n",
       "      <td>100.85550</td>\n",
       "      <td>450</td>\n",
       "    </tr>\n",
       "    <tr>\n",
       "      <td>11106</td>\n",
       "      <td>Overstepping</td>\n",
       "      <td>Belmont</td>\n",
       "      <td>79XKPlY5fagGd2iXhDPrEs</td>\n",
       "      <td>0.525</td>\n",
       "      <td>0.989</td>\n",
       "      <td>0.0757</td>\n",
       "      <td>0.001680</td>\n",
       "      <td>0.3440</td>\n",
       "      <td>0.471</td>\n",
       "      <td>102.569</td>\n",
       "      <td>99.68481</td>\n",
       "      <td>450</td>\n",
       "    </tr>\n",
       "    <tr>\n",
       "      <td>18234</td>\n",
       "      <td>Magic Moon (Clair De Lune)</td>\n",
       "      <td>The Rays</td>\n",
       "      <td>4lD1obJ7EeHuKwpKJHIPIr</td>\n",
       "      <td>0.485</td>\n",
       "      <td>0.351</td>\n",
       "      <td>0.0253</td>\n",
       "      <td>0.000074</td>\n",
       "      <td>0.1620</td>\n",
       "      <td>0.292</td>\n",
       "      <td>102.672</td>\n",
       "      <td>99.01630</td>\n",
       "      <td>450</td>\n",
       "    </tr>\n",
       "  </tbody>\n",
       "</table>\n",
       "</div>"
      ],
      "text/plain": [
       "                               track            artist  \\\n",
       "39944        Eu Me Tornei um Mutante  Zumbis Do Espaço   \n",
       "15881  Witch of Endor - Instrumental           Moondog   \n",
       "26798           Take Me To The River     Talking Heads   \n",
       "11106                   Overstepping           Belmont   \n",
       "18234     Magic Moon (Clair De Lune)          The Rays   \n",
       "\n",
       "                          uri  danceability  energy  speechiness  \\\n",
       "39944  2CqLn9YHk9tRDZmg0oms7U         0.452   0.917       0.0667   \n",
       "15881  51W1ugFbwJGA74yCd5iHhB         0.292   0.418       0.0352   \n",
       "26798  1oV1tu8utgHQjLJsEK9sVl         0.660   0.485       0.0258   \n",
       "11106  79XKPlY5fagGd2iXhDPrEs         0.525   0.989       0.0757   \n",
       "18234  4lD1obJ7EeHuKwpKJHIPIr         0.485   0.351       0.0253   \n",
       "\n",
       "       instrumentalness  liveness  valence    tempo  chorus_hit  cluster_num  \n",
       "39944          0.000019    0.0901    0.415  103.627   106.09566          450  \n",
       "15881          0.170000    0.1440    0.182  103.624   100.71820          450  \n",
       "26798          0.010200    0.0585    0.829   99.828   100.85550          450  \n",
       "11106          0.001680    0.3440    0.471  102.569    99.68481          450  \n",
       "18234          0.000074    0.1620    0.292  102.672    99.01630          450  "
      ]
     },
     "execution_count": 19,
     "metadata": {},
     "output_type": "execute_result"
    }
   ],
   "source": [
    "rec"
   ]
  },
  {
   "cell_type": "code",
   "execution_count": 32,
   "metadata": {},
   "outputs": [],
   "source": [
    "recs = {}\n",
    "rec_songs = [f'https://open.spotify.com/embed/track/{i}' for i in rec['uri']]"
   ]
  },
  {
   "cell_type": "code",
   "execution_count": 34,
   "metadata": {},
   "outputs": [],
   "source": [
    "recs['song_recs'] = rec_songs"
   ]
  },
  {
   "cell_type": "code",
   "execution_count": 35,
   "metadata": {},
   "outputs": [
    {
     "data": {
      "text/plain": [
       "{'song_recs': ['https://open.spotify.com/embed/track/6UhrIkR4sDh8LpoWdUVzt1',\n",
       "  'https://open.spotify.com/embed/track/7qpP87krX9Hc2pR3if51pC',\n",
       "  'https://open.spotify.com/embed/track/2ogF71NvoPUwJmqyKzEHqP',\n",
       "  'https://open.spotify.com/embed/track/6gGie940lliTLLt85tZPp7',\n",
       "  'https://open.spotify.com/embed/track/0B0FsdzH1KyPL1kFFj4taf']}"
      ]
     },
     "execution_count": 35,
     "metadata": {},
     "output_type": "execute_result"
    }
   ],
   "source": [
    "recs"
   ]
  },
  {
   "cell_type": "code",
   "execution_count": null,
   "metadata": {},
   "outputs": [],
   "source": []
  }
 ],
 "metadata": {
  "kernelspec": {
   "display_name": "Python 3",
   "language": "python",
   "name": "python3"
  },
  "language_info": {
   "codemirror_mode": {
    "name": "ipython",
    "version": 3
   },
   "file_extension": ".py",
   "mimetype": "text/x-python",
   "name": "python",
   "nbconvert_exporter": "python",
   "pygments_lexer": "ipython3",
   "version": "3.7.4"
  }
 },
 "nbformat": 4,
 "nbformat_minor": 2
}
