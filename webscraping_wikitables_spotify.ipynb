{
 "metadata": {
  "language_info": {
   "codemirror_mode": {
    "name": "ipython",
    "version": 3
   },
   "file_extension": ".py",
   "mimetype": "text/x-python",
   "name": "python",
   "nbconvert_exporter": "python",
   "pygments_lexer": "ipython3",
   "version": "3.8.5-final"
  },
  "orig_nbformat": 2,
  "kernelspec": {
   "name": "Python 3.8.5 64-bit ('BasicPythonEnvironment': conda)",
   "display_name": "Python 3.8.5 64-bit ('BasicPythonEnvironment': conda)",
   "metadata": {
    "interpreter": {
     "hash": "9888998bf79acf19a7e0385db0e6849187595fbf6b59fbe996c8dcc04747ce09"
    }
   }
  }
 },
 "nbformat": 4,
 "nbformat_minor": 2,
 "cells": [
  {
   "source": [
    "# Get Table information on List of Most-Streamed Songs on Wikipedia"
   ],
   "cell_type": "markdown",
   "metadata": {}
  },
  {
   "cell_type": "code",
   "execution_count": 1,
   "metadata": {},
   "outputs": [],
   "source": [
    "# Import necessary libraries\n",
    "\n",
    "import requests\n",
    "from bs4 import BeautifulSoup as bs\n",
    "import pandas as pd\n",
    "import csv\n",
    "import urllib.request\n",
    "from urllib.request import urlopen\n",
    "import lxml"
   ]
  },
  {
   "cell_type": "code",
   "execution_count": 2,
   "metadata": {},
   "outputs": [
    {
     "output_type": "stream",
     "name": "stdout",
     "text": [
      "200\n"
     ]
    }
   ],
   "source": [
    "#Load the webpage content\n",
    "url = 'https://en.wikipedia.org/wiki/List_of_most-streamed_songs_on_Spotify'\n",
    "response = requests.get(url)\n",
    "print(response.status_code)\n"
   ]
  },
  {
   "cell_type": "code",
   "execution_count": 3,
   "metadata": {
    "tags": []
   },
   "outputs": [
    {
     "output_type": "execute_result",
     "data": {
      "text/plain": [
       "f=\"/wiki/Talk:List_of_most-streamed_songs_on_Spotify\" rel=\"discussion\" title=\"Discuss improvements to the content page [t]\">\\n          Talk\\n         </a>\\n        </li>\\n       </ul>\\n      </div>\\n     </nav>\\n     <!-- Please do not use role attribute as CSS selector, it is deprecated. -->\\n     <nav aria-labelledby=\"p-variants-label\" class=\"vector-menu-empty emptyPortlet vector-menu vector-menu-dropdown vectorMenu\" id=\"p-variants\" role=\"navigation\">\\n      <input aria-labelledby=\"p-variants-label\" class=\"vector-menu-checkbox vectorMenuCheckbox\" type=\"checkbox\"/>\\n      <h3 id=\"p-variants-label\">\\n       <span>\\n        Variants\\n       </span>\\n      </h3>\\n      <!-- Please do not use the .body class, it is deprecated. -->\\n      <div class=\"body vector-menu-content\">\\n       <!-- Please do not use the .menu class, it is deprecated. -->\\n       <ul class=\"menu vector-menu-content-list\">\\n       </ul>\\n      </div>\\n     </nav>\\n    </div>\\n    <div id=\"right-navigation\">\\n     <!-- Please do not use role attribute as CSS selector, it is deprecated. -->\\n     <nav aria-labelledby=\"p-views-label\" class=\"vector-menu vector-menu-tabs vectorTabs\" id=\"p-views\" role=\"navigation\">\\n      <h3 id=\"p-views-label\">\\n       <span>\\n        Views\\n       </span>\\n      </h3>\\n      <!-- Please do not use the .body class, it is deprecated. -->\\n      <div class=\"body vector-menu-content\">\\n       <!-- Please do not use the .menu class, it is deprecated. -->\\n       <ul class=\"vector-menu-content-list\">\\n        <li class=\"selected\" id=\"ca-view\">\\n         <a href=\"/wiki/List_of_most-streamed_songs_on_Spotify\">\\n          Read\\n         </a>\\n        </li>\\n        <li id=\"ca-edit\">\\n         <a accesskey=\"e\" href=\"/w/index.php?title=List_of_most-streamed_songs_on_Spotify&amp;action=edit\" title=\"Edit this page [e]\">\\n          Edit\\n         </a>\\n        </li>\\n        <li id=\"ca-history\">\\n         <a accesskey=\"h\" href=\"/w/index.php?title=List_of_most-streamed_songs_on_Spotify&amp;action=history\" title=\"Past revisions of this page [h]\">\\n          View history\\n         </a>\\n        </li>\\n       </ul>\\n      </div>\\n     </nav>\\n     <!-- Please do not use role attribute as CSS selector, it is deprecated. -->\\n     <nav aria-labelledby=\"p-cactions-label\" class=\"vector-menu-empty emptyPortlet vector-menu vector-menu-dropdown vectorMenu\" id=\"p-cactions\" role=\"navigation\">\\n      <input aria-labelledby=\"p-cactions-label\" class=\"vector-menu-checkbox vectorMenuCheckbox\" type=\"checkbox\"/>\\n      <h3 id=\"p-cactions-label\">\\n       <span>\\n        More\\n       </span>\\n      </h3>\\n      <!-- Please do not use the .body class, it is deprecated. -->\\n      <div class=\"body vector-menu-content\">\\n       <!-- Please do not use the .menu class, it is deprecated. -->\\n       <ul class=\"menu vector-menu-content-list\">\\n       </ul>\\n      </div>\\n     </nav>\\n     <div id=\"p-search\" role=\"search\">\\n      <h3>\\n       <label for=\"searchInput\">\\n        Search\\n       </label>\\n      </h3>\\n      <form action=\"/w/index.php\" id=\"searchform\">\\n       <div data-search-loc=\"header-moved\" id=\"simpleSearch\">\\n        <input accesskey=\"f\" id=\"searchInput\" name=\"search\" placeholder=\"Search Wikipedia\" title=\"Search Wikipedia [f]\" type=\"search\"/>\\n        <input name=\"title\" type=\"hidden\" value=\"Special:Search\"/>\\n        <input class=\"searchButton mw-fallbackSearchButton\" id=\"mw-searchButton\" name=\"fulltext\" title=\"Search Wikipedia for this text\" type=\"submit\" value=\"Search\">\\n         <input class=\"searchButton\" id=\"searchButton\" name=\"go\" title=\"Go to a page with this exact name if it exists\" type=\"submit\" value=\"Go\"/>\\n        </input>\\n       </div>\\n      </form>\\n     </div>\\n    </div>\\n   </div>\\n   <div id=\"mw-panel\">\\n    <div id=\"p-logo\" role=\"banner\">\\n     <a class=\"mw-wiki-logo\" href=\"/wiki/Main_Page\" title=\"Visit the main page\">\\n     </a>\\n    </div>\\n    <!-- Please do not use role attribute as CSS selector, it is deprecated. -->\\n    <nav aria-labelledby=\"p-navigation-label\" class=\"vector-menu vector-menu-portal portal portal-first\" id=\"p-navigation\" role=\"navigation\">\\n     <h3 id=\"p-navigation-label\">\\n      <span>\\n       Navigation\\n      </span>\\n     </h3>\\n     <!-- Please do not use the .body class, it is deprecated. -->\\n     <div class=\"body vector-menu-content\">\\n      <!-- Please do not use the .menu class, it is deprecated. -->\\n      <ul class=\"vector-menu-content-list\">\\n       <li id=\"n-mainpage-description\">\\n        <a accesskey=\"z\" href=\"/wiki/Main_Page\" title=\"Visit the main page [z]\">\\n         Main page\\n        </a>\\n       </li>\\n       <li id=\"n-contents\">\\n        <a href=\"/wiki/Wikipedia:Contents\" title=\"Guides to browsing Wikipedia\">\\n         Contents\\n        </a>\\n       </li>\\n       <li id=\"n-currentevents\">\\n        <a href=\"/wiki/Portal:Current_events\" title=\"Articles related to current events\">\\n         Current events\\n        </a>\\n       </li>\\n       <li id=\"n-randompage\">\\n        <a accesskey=\"x\" href=\"/wiki/Special:Random\" title=\"Visit a randomly selected article [x]\">\\n         Random article\\n        </a>\\n       </li>\\n       <li id=\"n-aboutsite\">\\n        <a href=\"/wiki/Wikipedia:About\" title=\"Learn about Wikipedia and how it works\">\\n         About Wikipedia\\n        </a>\\n       </li>\\n       <li id=\"n-contactpage\">\\n        <a href=\"//en.wikipedia.org/wiki/Wikipedia:Contact_us\" title=\"How to contact Wikipedia\">\\n         Contact us\\n        </a>\\n       </li>\\n       <li id=\"n-sitesupport\">\\n        <a href=\"https://donate.wikimedia.org/wiki/Special:FundraiserRedirector?utm_source=donate&amp;utm_medium=sidebar&amp;utm_campaign=C13_en.wikipedia.org&amp;uselang=en\" title=\"Support us by donating to the Wikimedia Foundation\">\\n         Donate\\n        </a>\\n       </li>\\n      </ul>\\n     </div>\\n    </nav>\\n    <!-- Please do not use role attribute as CSS selector, it is deprecated. -->\\n    <nav aria-labelledby=\"p-interaction-label\" class=\"vector-menu vector-menu-portal portal\" id=\"p-interaction\" role=\"navigation\">\\n     <h3 id=\"p-interaction-label\">\\n      <span>\\n       Contribute\\n      </span>\\n     </h3>\\n     <!-- Please do not use the .body class, it is deprecated. -->\\n     <div class=\"body vector-menu-content\">\\n      <!-- Please do not use the .menu class, it is deprecated. -->\\n      <ul class=\"vector-menu-content-list\">\\n       <li id=\"n-help\">\\n        <a href=\"/wiki/Help:Contents\" title=\"Guidance on how to use and edit Wikipedia\">\\n         Help\\n        </a>\\n       </li>\\n       <li id=\"n-introduction\">\\n        <a href=\"/wiki/Help:Introduction\" title=\"Learn how to edit Wikipedia\">\\n         Learn to edit\\n        </a>\\n       </li>\\n       <li id=\"n-portal\">\\n        <a href=\"/wiki/Wikipedia:Community_portal\" title=\"The hub for editors\">\\n         Community portal\\n        </a>\\n       </li>\\n       <li id=\"n-recentchanges\">\\n        <a accesskey=\"r\" href=\"/wiki/Special:RecentChanges\" title=\"A list of recent changes to Wikipedia [r]\">\\n         Recent changes\\n        </a>\\n       </li>\\n       <li id=\"n-upload\">\\n        <a href=\"/wiki/Wikipedia:File_Upload_Wizard\" title=\"Add images or other media for use on Wikipedia\">\\n         Upload file\\n        </a>\\n       </li>\\n      </ul>\\n     </div>\\n    </nav>\\n    <!-- Please do not use role attribute as CSS selector, it is deprecated. -->\\n    <nav aria-labelledby=\"p-tb-label\" class=\"vector-menu vector-menu-portal portal\" id=\"p-tb\" role=\"navigation\">\\n     <h3 id=\"p-tb-label\">\\n      <span>\\n       Tools\\n      </span>\\n     </h3>\\n     <!-- Please do not use the .body class, it is deprecated. -->\\n     <div class=\"body vector-menu-content\">\\n      <!-- Please do not use the .menu class, it is deprecated. -->\\n      <ul class=\"vector-menu-content-list\">\\n       <li id=\"t-whatlinkshere\">\\n        <a accesskey=\"j\" href=\"/wiki/Special:WhatLinksHere/List_of_most-streamed_songs_on_Spotify\" title=\"List of all English Wikipedia pages containing links to this page [j]\">\\n         What links here\\n        </a>\\n       </li>\\n       <li id=\"t-recentchangeslinked\">\\n        <a accesskey=\"k\" href=\"/wiki/Special:RecentChangesLinked/List_of_most-streamed_songs_on_Spotify\" rel=\"nofollow\" title=\"Recent changes in pages linked from this page [k]\">\\n         Related changes\\n        </a>\\n       </li>\\n       <li id=\"t-upload\">\\n        <a accesskey=\"u\" href=\"/wiki/Wikipedia:File_Upload_Wizard\" title=\"Upload files [u]\">\\n         Upload file\\n        </a>\\n       </li>\\n       <li id=\"t-specialpages\">\\n        <a accesskey=\"q\" href=\"/wiki/Special:SpecialPages\" title=\"A list of all special pages [q]\">\\n         Special pages\\n        </a>\\n       </li>\\n       <li id=\"t-permalink\">\\n        <a href=\"/w/index.php?title=List_of_most-streamed_songs_on_Spotify&amp;oldid=983304196\" title=\"Permanent link to this revision of this page\">\\n         Permanent link\\n        </a>\\n       </li>\\n       <li id=\"t-info\">\\n        <a href=\"/w/index.php?title=List_of_most-streamed_songs_on_Spotify&amp;action=info\" title=\"More information about this page\">\\n         Page information\\n        </a>\\n       </li>\\n       <li id=\"t-cite\">\\n        <a href=\"/w/index.php?title=Special:CiteThisPage&amp;page=List_of_most-streamed_songs_on_Spotify&amp;id=983304196&amp;wpFormIdentifier=titleform\" title=\"Information on how to cite this page\">\\n         Cite this page\\n        </a>\\n       </li>\\n       <li id=\"t-wikibase\">\\n        <a accesskey=\"g\" href=\"https://www.wikidata.org/wiki/Special:EntityPage/Q27661711\" title=\"Structured data on this page hosted by Wikidata [g]\">\\n         Wikidata item\\n        </a>\\n       </li>\\n      </ul>\\n     </div>\\n    </nav>\\n    <!-- Please do not use role attribute as CSS selector, it is deprecated. -->\\n    <nav aria-labelledby=\"p-coll-print_export-label\" class=\"vector-menu vector-menu-portal portal\" id=\"p-coll-print_export\" role=\"navigation\">\\n     <h3 id=\"p-coll-print_export-label\">\\n      <span>\\n       Print/export\\n      </span>\\n     </h3>\\n     <!-- Please do not use the .body class, it is deprecated. -->\\n     <div class=\"body vector-menu-content\">\\n      <!-- Please do not use the .menu class, it is deprecated. -->\\n      <ul class=\"vector-menu-content-list\">\\n       <li id=\"coll-download-as-rl\">\\n        <a href=\"/w/index.php?title=Special:DownloadAsPdf&amp;page=List_of_most-streamed_songs_on_Spotify&amp;action=show-download-screen\" title=\"Download this page as a PDF file\">\\n         Download as PDF\\n        </a>\\n       </li>\\n       <li id=\"t-print\">\\n        <a accesskey=\"p\" href=\"/w/index.php?title=List_of_most-streamed_songs_on_Spotify&amp;printable=yes\" title=\"Printable version of this page [p]\">\\n         Printable version\\n        </a>\\n       </li>\\n      </ul>\\n     </div>\\n    </nav>\\n    <!-- Please do not use role attribute as CSS selector, it is deprecated. -->\\n    <nav aria-labelledby=\"p-lang-label\" class=\"vector-menu vector-menu-portal portal\" id=\"p-lang\" role=\"navigation\">\\n     <h3 id=\"p-lang-label\">\\n      <span>\\n       Languages\\n      </span>\\n     </h3>\\n     <!-- Please do not use the .body class, it is deprecated. -->\\n     <div class=\"body vector-menu-content\">\\n      <!-- Please do not use the .menu class, it is deprecated. -->\\n      <ul class=\"vector-menu-content-list\">\\n       <li class=\"interlanguage-link interwiki-de\">\\n        <a class=\"interlanguage-link-target\" href=\"https://de.wikipedia.org/wiki/Liste_der_meistgestreamten_Lieder_auf_Spotify\" hreflang=\"de\" lang=\"de\" title=\"Liste der meistgestreamten Lieder auf Spotify – German\">\\n         Deutsch\\n        </a>\\n       </li>\\n       <li class=\"interlanguage-link interwiki-es\">\\n        <a class=\"interlanguage-link-target\" href=\"https://es.wikipedia.org/wiki/Anexo:Canciones_m%C3%A1s_transmitidas_en_Spotify\" hreflang=\"es\" lang=\"es\" title=\"Anexo:Canciones más transmitidas en Spotify – Spanish\">\\n         Español\\n        </a>\\n       </li>\\n       <li class=\"interlanguage-link interwiki-he\">\\n        <a class=\"interlanguage-link-target\" href=\"https://he.wikipedia.org/wiki/%D7%A8%D7%A9%D7%99%D7%9E%D7%AA_%D7%94%D7%A9%D7%99%D7%A8%D7%99%D7%9D_%D7%94%D7%9E%D7%95%D7%A9%D7%9E%D7%A2%D7%99%D7%9D_%D7%91%D7%99%D7%95%D7%AA%D7%A8_%D7%91%D7%A1%D7%A4%D7%95%D7%98%D7%99%D7%A4%D7%99%D7%99\" hreflang=\"he\" lang=\"he\" title=\"רשימת השירים המושמעים ביותר בספוטיפיי – Hebrew\">\\n         עברית\\n        </a>\\n       </li>\\n       <li class=\"interlanguage-link interwiki-pl\">\\n        <a class=\"interlanguage-link-target\" href=\"https://pl.wikipedia.org/wiki/Lista_rekord%C3%B3w_i_osi%C4%85gni%C4%99%C4%87_na_Spotify\" hreflang=\"pl\" lang=\"pl\" title=\"Lista rekordów i osiągnięć na Spotify – Polish\">\\n         Polski\\n        </a>\\n       </li>\\n       <li class=\"interlanguage-link interwiki-tr\">\\n        <a class=\"interlanguage-link-target\" href=\"https://tr.wikipedia.org/wiki/Spotify%27da_en_%C3%A7ok_dinlenen_%C5%9Fark%C4%B1lar_listesi\" hreflang=\"tr\" lang=\"tr\" title=\"Spotify\\'da en çok dinlenen şarkılar listesi – Turkish\">\\n         Türkçe\\n        </a>\\n       </li>\\n       <li class=\"interlanguage-link interwiki-vi\">\\n        <a class=\"interlanguage-link-target\" href=\"https://vi.wikipedia.org/wiki/Danh_s%C3%A1ch_nh%E1%BB%AFng_b%C3%A0i_h%C3%A1t_%C4%91%C6%B0%E1%BB%A3c_nghe_nhi%E1%BB%81u_nh%E1%BA%A5t_Spotify\" hreflang=\"vi\" lang=\"vi\" title=\"Danh sách những bài hát được nghe nhiều nhất Spotify – Vietnamese\">\\n         Tiếng Việt\\n        </a>\\n       </li>\\n      </ul>\\n      <div class=\"after-portlet after-portlet-lang\">\\n       <span class=\"wb-langlinks-edit wb-langlinks-link\">\\n        <a class=\"wbc-editpage\" href=\"https://www.wikidata.org/wiki/Special:EntityPage/Q27661711#sitelinks-wikipedia\" title=\"Edit interlanguage links\">\\n         Edit links\\n        </a>\\n       </span>\\n      </div>\\n     </div>\\n    </nav>\\n   </div>\\n  </div>\\n  <footer class=\"mw-footer\" id=\"footer\" role=\"contentinfo\">\\n   <ul id=\"footer-info\">\\n    <li id=\"footer-info-lastmod\">\\n     This page was last edited on 13 October 2020, at 13:39\\n     <span class=\"anonymous-show\">\\n      (UTC)\\n     </span>\\n     .\\n    </li>\\n    <li id=\"footer-info-copyright\">\\n     Text is available under the\\n     <a href=\"//en.wikipedia.org/wiki/Wikipedia:Text_of_Creative_Commons_Attribution-ShareAlike_3.0_Unported_License\" rel=\"license\">\\n      Creative Commons Attribution-ShareAlike License\\n     </a>\\n     <a href=\"//creativecommons.org/licenses/by-sa/3.0/\" rel=\"license\" style=\"display:none;\">\\n     </a>\\n     ;\\nadditional terms may apply.  By using this site, you agree to the\\n     <a href=\"//foundation.wikimedia.org/wiki/Terms_of_Use\">\\n      Terms of Use\\n     </a>\\n     and\\n     <a href=\"//foundation.wikimedia.org/wiki/Privacy_policy\">\\n      Privacy Policy\\n     </a>\\n     . Wikipedia® is a registered trademark of the\\n     <a href=\"//www.wikimediafoundation.org/\">\\n      Wikimedia Foundation, Inc.\\n     </a>\\n     , a non-profit organization.\\n    </li>\\n   </ul>\\n   <ul id=\"footer-places\">\\n    <li id=\"footer-places-privacy\">\\n     <a class=\"extiw\" href=\"https://foundation.wikimedia.org/wiki/Privacy_policy\" title=\"wmf:Privacy policy\">\\n      Privacy policy\\n     </a>\\n    </li>\\n    <li id=\"footer-places-about\">\\n     <a href=\"/wiki/Wikipedia:About\" title=\"Wikipedia:About\">\\n      About Wikipedia\\n     </a>\\n    </li>\\n    <li id=\"footer-places-disclaimer\">\\n     <a href=\"/wiki/Wikipedia:General_disclaimer\" title=\"Wikipedia:General disclaimer\">\\n      Disclaimers\\n     </a>\\n    </li>\\n    <li id=\"footer-places-contact\">\\n     <a href=\"//en.wikipedia.org/wiki/Wikipedia:Contact_us\">\\n      Contact Wikipedia\\n     </a>\\n    </li>\\n    <li id=\"footer-places-mobileview\">\\n     <a class=\"noprint stopMobileRedirectToggle\" href=\"//en.m.wikipedia.org/w/index.php?title=List_of_most-streamed_songs_on_Spotify&amp;mobileaction=toggle_view_mobile\">\\n      Mobile view\\n     </a>\\n    </li>\\n    <li id=\"footer-places-developers\">\\n     <a href=\"https://www.mediawiki.org/wiki/Special:MyLanguage/How_to_contribute\">\\n      Developers\\n     </a>\\n    </li>\\n    <li id=\"footer-places-statslink\">\\n     <a href=\"https://stats.wikimedia.org/#/en.wikipedia.org\">\\n      Statistics\\n     </a>\\n    </li>\\n    <li id=\"footer-places-cookiestatement\">\\n     <a href=\"https://foundation.wikimedia.org/wiki/Cookie_statement\">\\n      Cookie statement\\n     </a>\\n    </li>\\n   </ul>\\n   <ul class=\"noprint\" id=\"footer-icons\">\\n    <li id=\"footer-copyrightico\">\\n     <a href=\"https://wikimediafoundation.org/\">\\n      <img alt=\"Wikimedia Foundation\" height=\"31\" loading=\"lazy\" src=\"/static/images/footer/wikimedia-button.png\" srcset=\"/static/images/footer/wikimedia-button-1.5x.png 1.5x, /static/images/footer/wikimedia-button-2x.png 2x\" width=\"88\"/>\\n     </a>\\n    </li>\\n    <li id=\"footer-poweredbyico\">\\n     <a href=\"https://www.mediawiki.org/\">\\n      <img alt=\"Powered by MediaWiki\" height=\"31\" loading=\"lazy\" src=\"/static/images/footer/poweredby_mediawiki_88x31.png\" srcset=\"/static/images/footer/poweredby_mediawiki_132x47.png 1.5x, /static/images/footer/poweredby_mediawiki_176x62.png 2x\" width=\"88\"/>\\n     </a>\\n    </li>\\n   </ul>\\n   <div style=\"clear: both;\">\\n   </div>\\n  </footer>\\n  <script>\\n   (RLQ=window.RLQ||[]).push(function(){mw.config.set({\"wgPageParseReport\":{\"limitreport\":{\"cputime\":\"2.752\",\"walltime\":\"3.310\",\"ppvisitednodes\":{\"value\":12147,\"limit\":1000000},\"postexpandincludesize\":{\"value\":275306,\"limit\":2097152},\"templateargumentsize\":{\"value\":10678,\"limit\":2097152},\"expansiondepth\":{\"value\":13,\"limit\":40},\"expensivefunctioncount\":{\"value\":1,\"limit\":500},\"unstrip-depth\":{\"value\":1,\"limit\":20},\"unstrip-size\":{\"value\":608484,\"limit\":5000000},\"entityaccesscount\":{\"value\":0,\"limit\":400},\"timingprofile\":[\"100.00% 2376.532      1 -total\",\" 68.06% 1617.408      2 Template:Reflist\",\" 52.12% 1238.575    196 Template:Cite_web\",\" 10.07%  239.208     36 Template:Flag\",\"  6.02%  142.999      2 Template:Cite_news\",\"  4.66%  110.734      1 Template:Short_description\",\"  2.87%   68.315      1 Template:Pagetype\",\"  2.17%   51.564      4 Template:Legend\",\"  2.15%   51.141     36 Template:Flag/core\",\"  1.51%   35.767     10 Template:Age_in_days\"]},\"scribunto\":{\"limitreport-timeusage\":{\"value\":\"1.356\",\"limit\":\"10.000\"},\"limitreport-memusage\":{\"value\":6795168,\"limit\":52428800},\"limitreport-profile\":[[\"dataWrapper \\\\u003Cmw.lua:661\\\\u003E\",\"200\",\"15.6\"],[\"Scribunto_LuaSandboxCallback::callParserFunction\",\"160\",\"12.5\"],[\"recursiveClone \\\\u003CmwInit.lua:41\\\\u003E\",\"140\",\"10.9\"],[\"?\",\"80\",\"6.2\"],[\"Scribunto_LuaSandboxCallback::gsub\",\"80\",\"6.2\"],[\"type\",\"60\",\"4.7\"],[\"init \\\\u003CModule:Citation/CS1/Identifiers\\\\u003E\",\"60\",\"4.7\"],[\"select_one \\\\u003CModule:Citation/CS1/Utilities:348\\\\u003E\",\"60\",\"4.7\"],[\"(for generator) \\\\u003Cmw.lua:673\\\\u003E\",\"60\",\"4.7\"],[\"chunk \\\\u003CModule:Citation/CS1\\\\u003E\",\"40\",\"3.1\"],[\"[others]\",\"340\",\"26.6\"]]},\"cachereport\":{\"origin\":\"mw2267\",\"timestamp\":\"20201013133916\",\"ttl\":2592000,\"transientcontent\":false}}});});\\n  </script>\\n  <script type=\"application/ld+json\">\\n   {\"@context\":\"https:\\\\/\\\\/schema.org\",\"@type\":\"Article\",\"name\":\"List of most-streamed songs on Spotify\",\"url\":\"https:\\\\/\\\\/en.wikipedia.org\\\\/wiki\\\\/List_of_most-streamed_songs_on_Spotify\",\"sameAs\":\"http:\\\\/\\\\/www.wikidata.org\\\\/entity\\\\/Q27661711\",\"mainEntity\":\"http:\\\\/\\\\/www.wikidata.org\\\\/entity\\\\/Q27661711\",\"author\":{\"@type\":\"Organization\",\"name\":\"Contributors to Wikimedia projects\"},\"publisher\":{\"@type\":\"Organization\",\"name\":\"Wikimedia Foundation, Inc.\",\"logo\":{\"@type\":\"ImageObject\",\"url\":\"https:\\\\/\\\\/www.wikimedia.org\\\\/static\\\\/images\\\\/wmf-hor-googpub.png\"}},\"datePublished\":\"2016-10-16T10:28:11Z\",\"dateModified\":\"2020-10-13T13:39:07Z\",\"image\":\"https:\\\\/\\\\/upload.wikimedia.org\\\\/wikipedia\\\\/commons\\\\/c\\\\/c1\\\\/Ed_Sheeran_%28cropped%29.jpg\",\"headline\":\"Wikimedia list article\"}\\n  </script>\\n  <script>\\n   (RLQ=window.RLQ||[]).push(function(){mw.config.set({\"wgBackendResponseTime\":132,\"wgHostname\":\"mw2335\"});});\\n  </script>\\n </body>\\n</html>'"
      ]
     },
     "metadata": {},
     "execution_count": 3
    }
   ],
   "source": [
    "# Convert to a BeautifulSoup Object\n",
    "soup = bs(response.text,\"html.parser\")\n",
    "# Print out our html\n",
    "soup.prettify()"
   ]
  },
  {
   "cell_type": "code",
   "execution_count": 4,
   "metadata": {},
   "outputs": [],
   "source": [
    "#Finding the table on the page that will have the Top Songs Streamed on Spotify\n",
    "\n",
    "table = soup.find('table',{'class':'wikitable sortable'})\n"
   ]
  },
  {
   "cell_type": "code",
   "execution_count": 5,
   "metadata": {},
   "outputs": [],
   "source": [
    "#Looking for all rows of the table\n",
    "table_rows = table.find_all('tr')"
   ]
  },
  {
   "cell_type": "code",
   "execution_count": 6,
   "metadata": {},
   "outputs": [
    {
     "output_type": "execute_result",
     "data": {
      "text/plain": [
       "             Song                             Artist                 Album  \\\n",
       "1  \"Shape of You\"                         Ed Sheeran                     ÷   \n",
       "2      \"Rockstar\"    Post Malone featuring 21 Savage  Beerbongs & Bentleys   \n",
       "3     \"One Dance\"    Drake featuring Wizkid and Kyla                 Views   \n",
       "4  \"Dance Monkey\"                        Tones and I   The Kids Are Coming   \n",
       "5        \"Closer\"  The Chainsmokers featuring Halsey               Collage   \n",
       "\n",
       "  Streams in Millions     Date Published  \n",
       "1               2,615     6 January 2017  \n",
       "2               2,027  15 September 2017  \n",
       "3               1,922       5 April 2016  \n",
       "4               1,879        10 May 2019  \n",
       "5               1,866       29 July 2016  "
      ],
      "text/html": "<div>\n<style scoped>\n    .dataframe tbody tr th:only-of-type {\n        vertical-align: middle;\n    }\n\n    .dataframe tbody tr th {\n        vertical-align: top;\n    }\n\n    .dataframe thead th {\n        text-align: right;\n    }\n</style>\n<table border=\"1\" class=\"dataframe\">\n  <thead>\n    <tr style=\"text-align: right;\">\n      <th></th>\n      <th>Song</th>\n      <th>Artist</th>\n      <th>Album</th>\n      <th>Streams in Millions</th>\n      <th>Date Published</th>\n    </tr>\n  </thead>\n  <tbody>\n    <tr>\n      <th>1</th>\n      <td>\"Shape of You\"</td>\n      <td>Ed Sheeran</td>\n      <td>÷</td>\n      <td>2,615</td>\n      <td>6 January 2017</td>\n    </tr>\n    <tr>\n      <th>2</th>\n      <td>\"Rockstar\"</td>\n      <td>Post Malone featuring 21 Savage</td>\n      <td>Beerbongs &amp; Bentleys</td>\n      <td>2,027</td>\n      <td>15 September 2017</td>\n    </tr>\n    <tr>\n      <th>3</th>\n      <td>\"One Dance\"</td>\n      <td>Drake featuring Wizkid and Kyla</td>\n      <td>Views</td>\n      <td>1,922</td>\n      <td>5 April 2016</td>\n    </tr>\n    <tr>\n      <th>4</th>\n      <td>\"Dance Monkey\"</td>\n      <td>Tones and I</td>\n      <td>The Kids Are Coming</td>\n      <td>1,879</td>\n      <td>10 May 2019</td>\n    </tr>\n    <tr>\n      <th>5</th>\n      <td>\"Closer\"</td>\n      <td>The Chainsmokers featuring Halsey</td>\n      <td>Collage</td>\n      <td>1,866</td>\n      <td>29 July 2016</td>\n    </tr>\n  </tbody>\n</table>\n</div>"
     },
     "metadata": {},
     "execution_count": 6
    }
   ],
   "source": [
    "#Populating data.  We are then taking out the first row which was null and creating a DataFrame from it. \n",
    "\n",
    "data = []\n",
    "for row in table_rows:\n",
    "    data.append([t.text.strip() for t in row.find_all('td')])\n",
    "\n",
    "df = pd.DataFrame(data,columns=['Song','Artist','Album','Streams in Millions','Date Published'])\n",
    "df = df[~df['Song'].isnull()]\n",
    "df.head()"
   ]
  },
  {
   "cell_type": "code",
   "execution_count": 7,
   "metadata": {},
   "outputs": [],
   "source": [
    "df.to_csv('TopSongsAllTimeSpotify.csv', index=True)"
   ]
  },
  {
   "cell_type": "code",
   "execution_count": 8,
   "metadata": {},
   "outputs": [],
   "source": [
    "# Getting a table of the most Listened to Artists per Month"
   ]
  },
  {
   "cell_type": "code",
   "execution_count": 9,
   "metadata": {},
   "outputs": [
    {
     "output_type": "stream",
     "name": "stdout",
     "text": [
      "200\n"
     ]
    }
   ],
   "source": [
    "#Getting a list of the most monthly listeners from Wikipedia\n",
    "\n",
    "url2 = 'https://en.wikipedia.org/wiki/List_of_most-streamed_artists_on_Spotify'\n",
    "response2 = requests.get(url2)\n",
    "print(response2.status_code)"
   ]
  },
  {
   "cell_type": "code",
   "execution_count": 10,
   "metadata": {},
   "outputs": [
    {
     "output_type": "execute_result",
     "data": {
      "text/plain": [
       "aged to log in; however, it\\'s not mandatory. [o]\">\\n         Log in\\n        </a>\\n       </li>\\n      </ul>\\n     </div>\\n    </nav>\\n    <div id=\"left-navigation\">\\n     <!-- Please do not use role attribute as CSS selector, it is deprecated. -->\\n     <nav aria-labelledby=\"p-namespaces-label\" class=\"vector-menu vector-menu-tabs vectorTabs\" id=\"p-namespaces\" role=\"navigation\">\\n      <h3 id=\"p-namespaces-label\">\\n       <span>\\n        Namespaces\\n       </span>\\n      </h3>\\n      <!-- Please do not use the .body class, it is deprecated. -->\\n      <div class=\"body vector-menu-content\">\\n       <!-- Please do not use the .menu class, it is deprecated. -->\\n       <ul class=\"vector-menu-content-list\">\\n        <li class=\"selected\" id=\"ca-nstab-main\">\\n         <a accesskey=\"c\" href=\"/wiki/List_of_most-streamed_artists_on_Spotify\" title=\"View the content page [c]\">\\n          Article\\n         </a>\\n        </li>\\n        <li id=\"ca-talk\">\\n         <a accesskey=\"t\" href=\"/wiki/Talk:List_of_most-streamed_artists_on_Spotify\" rel=\"discussion\" title=\"Discuss improvements to the content page [t]\">\\n          Talk\\n         </a>\\n        </li>\\n       </ul>\\n      </div>\\n     </nav>\\n     <!-- Please do not use role attribute as CSS selector, it is deprecated. -->\\n     <nav aria-labelledby=\"p-variants-label\" class=\"vector-menu-empty emptyPortlet vector-menu vector-menu-dropdown vectorMenu\" id=\"p-variants\" role=\"navigation\">\\n      <input aria-labelledby=\"p-variants-label\" class=\"vector-menu-checkbox vectorMenuCheckbox\" type=\"checkbox\"/>\\n      <h3 id=\"p-variants-label\">\\n       <span>\\n        Variants\\n       </span>\\n      </h3>\\n      <!-- Please do not use the .body class, it is deprecated. -->\\n      <div class=\"body vector-menu-content\">\\n       <!-- Please do not use the .menu class, it is deprecated. -->\\n       <ul class=\"menu vector-menu-content-list\">\\n       </ul>\\n      </div>\\n     </nav>\\n    </div>\\n    <div id=\"right-navigation\">\\n     <!-- Please do not use role attribute as CSS selector, it is deprecated. -->\\n     <nav aria-labelledby=\"p-views-label\" class=\"vector-menu vector-menu-tabs vectorTabs\" id=\"p-views\" role=\"navigation\">\\n      <h3 id=\"p-views-label\">\\n       <span>\\n        Views\\n       </span>\\n      </h3>\\n      <!-- Please do not use the .body class, it is deprecated. -->\\n      <div class=\"body vector-menu-content\">\\n       <!-- Please do not use the .menu class, it is deprecated. -->\\n       <ul class=\"vector-menu-content-list\">\\n        <li class=\"selected\" id=\"ca-view\">\\n         <a href=\"/wiki/List_of_most-streamed_artists_on_Spotify\">\\n          Read\\n         </a>\\n        </li>\\n        <li id=\"ca-edit\">\\n         <a accesskey=\"e\" href=\"/w/index.php?title=List_of_most-streamed_artists_on_Spotify&amp;action=edit\" title=\"Edit this page [e]\">\\n          Edit\\n         </a>\\n        </li>\\n        <li id=\"ca-history\">\\n         <a accesskey=\"h\" href=\"/w/index.php?title=List_of_most-streamed_artists_on_Spotify&amp;action=history\" title=\"Past revisions of this page [h]\">\\n          View history\\n         </a>\\n        </li>\\n       </ul>\\n      </div>\\n     </nav>\\n     <!-- Please do not use role attribute as CSS selector, it is deprecated. -->\\n     <nav aria-labelledby=\"p-cactions-label\" class=\"vector-menu-empty emptyPortlet vector-menu vector-menu-dropdown vectorMenu\" id=\"p-cactions\" role=\"navigation\">\\n      <input aria-labelledby=\"p-cactions-label\" class=\"vector-menu-checkbox vectorMenuCheckbox\" type=\"checkbox\"/>\\n      <h3 id=\"p-cactions-label\">\\n       <span>\\n        More\\n       </span>\\n      </h3>\\n      <!-- Please do not use the .body class, it is deprecated. -->\\n      <div class=\"body vector-menu-content\">\\n       <!-- Please do not use the .menu class, it is deprecated. -->\\n       <ul class=\"menu vector-menu-content-list\">\\n       </ul>\\n      </div>\\n     </nav>\\n     <div id=\"p-search\" role=\"search\">\\n      <h3>\\n       <label for=\"searchInput\">\\n        Search\\n       </label>\\n      </h3>\\n      <form action=\"/w/index.php\" id=\"searchform\">\\n       <div data-search-loc=\"header-navigation\" id=\"simpleSearch\">\\n        <input accesskey=\"f\" id=\"searchInput\" name=\"search\" placeholder=\"Search Wikipedia\" title=\"Search Wikipedia [f]\" type=\"search\"/>\\n        <input name=\"title\" type=\"hidden\" value=\"Special:Search\"/>\\n        <input class=\"searchButton mw-fallbackSearchButton\" id=\"mw-searchButton\" name=\"fulltext\" title=\"Search Wikipedia for this text\" type=\"submit\" value=\"Search\">\\n         <input class=\"searchButton\" id=\"searchButton\" name=\"go\" title=\"Go to a page with this exact name if it exists\" type=\"submit\" value=\"Go\"/>\\n        </input>\\n       </div>\\n      </form>\\n     </div>\\n    </div>\\n   </div>\\n   <div id=\"mw-panel\">\\n    <div id=\"p-logo\" role=\"banner\">\\n     <a class=\"mw-wiki-logo\" href=\"/wiki/Main_Page\" title=\"Visit the main page\">\\n     </a>\\n    </div>\\n    <!-- Please do not use role attribute as CSS selector, it is deprecated. -->\\n    <nav aria-labelledby=\"p-navigation-label\" class=\"vector-menu vector-menu-portal portal portal-first\" id=\"p-navigation\" role=\"navigation\">\\n     <h3 id=\"p-navigation-label\">\\n      <span>\\n       Navigation\\n      </span>\\n     </h3>\\n     <!-- Please do not use the .body class, it is deprecated. -->\\n     <div class=\"body vector-menu-content\">\\n      <!-- Please do not use the .menu class, it is deprecated. -->\\n      <ul class=\"vector-menu-content-list\">\\n       <li id=\"n-mainpage-description\">\\n        <a accesskey=\"z\" href=\"/wiki/Main_Page\" title=\"Visit the main page [z]\">\\n         Main page\\n        </a>\\n       </li>\\n       <li id=\"n-contents\">\\n        <a href=\"/wiki/Wikipedia:Contents\" title=\"Guides to browsing Wikipedia\">\\n         Contents\\n        </a>\\n       </li>\\n       <li id=\"n-currentevents\">\\n        <a href=\"/wiki/Portal:Current_events\" title=\"Articles related to current events\">\\n         Current events\\n        </a>\\n       </li>\\n       <li id=\"n-randompage\">\\n        <a accesskey=\"x\" href=\"/wiki/Special:Random\" title=\"Visit a randomly selected article [x]\">\\n         Random article\\n        </a>\\n       </li>\\n       <li id=\"n-aboutsite\">\\n        <a href=\"/wiki/Wikipedia:About\" title=\"Learn about Wikipedia and how it works\">\\n         About Wikipedia\\n        </a>\\n       </li>\\n       <li id=\"n-contactpage\">\\n        <a href=\"//en.wikipedia.org/wiki/Wikipedia:Contact_us\" title=\"How to contact Wikipedia\">\\n         Contact us\\n        </a>\\n       </li>\\n       <li id=\"n-sitesupport\">\\n        <a href=\"https://donate.wikimedia.org/wiki/Special:FundraiserRedirector?utm_source=donate&amp;utm_medium=sidebar&amp;utm_campaign=C13_en.wikipedia.org&amp;uselang=en\" title=\"Support us by donating to the Wikimedia Foundation\">\\n         Donate\\n        </a>\\n       </li>\\n      </ul>\\n     </div>\\n    </nav>\\n    <!-- Please do not use role attribute as CSS selector, it is deprecated. -->\\n    <nav aria-labelledby=\"p-interaction-label\" class=\"vector-menu vector-menu-portal portal\" id=\"p-interaction\" role=\"navigation\">\\n     <h3 id=\"p-interaction-label\">\\n      <span>\\n       Contribute\\n      </span>\\n     </h3>\\n     <!-- Please do not use the .body class, it is deprecated. -->\\n     <div class=\"body vector-menu-content\">\\n      <!-- Please do not use the .menu class, it is deprecated. -->\\n      <ul class=\"vector-menu-content-list\">\\n       <li id=\"n-help\">\\n        <a href=\"/wiki/Help:Contents\" title=\"Guidance on how to use and edit Wikipedia\">\\n         Help\\n        </a>\\n       </li>\\n       <li id=\"n-introduction\">\\n        <a href=\"/wiki/Help:Introduction\" title=\"Learn how to edit Wikipedia\">\\n         Learn to edit\\n        </a>\\n       </li>\\n       <li id=\"n-portal\">\\n        <a href=\"/wiki/Wikipedia:Community_portal\" title=\"The hub for editors\">\\n         Community portal\\n        </a>\\n       </li>\\n       <li id=\"n-recentchanges\">\\n        <a accesskey=\"r\" href=\"/wiki/Special:RecentChanges\" title=\"A list of recent changes to Wikipedia [r]\">\\n         Recent changes\\n        </a>\\n       </li>\\n       <li id=\"n-upload\">\\n        <a href=\"/wiki/Wikipedia:File_Upload_Wizard\" title=\"Add images or other media for use on Wikipedia\">\\n         Upload file\\n        </a>\\n       </li>\\n      </ul>\\n     </div>\\n    </nav>\\n    <!-- Please do not use role attribute as CSS selector, it is deprecated. -->\\n    <nav aria-labelledby=\"p-tb-label\" class=\"vector-menu vector-menu-portal portal\" id=\"p-tb\" role=\"navigation\">\\n     <h3 id=\"p-tb-label\">\\n      <span>\\n       Tools\\n      </span>\\n     </h3>\\n     <!-- Please do not use the .body class, it is deprecated. -->\\n     <div class=\"body vector-menu-content\">\\n      <!-- Please do not use the .menu class, it is deprecated. -->\\n      <ul class=\"vector-menu-content-list\">\\n       <li id=\"t-whatlinkshere\">\\n        <a accesskey=\"j\" href=\"/wiki/Special:WhatLinksHere/List_of_most-streamed_artists_on_Spotify\" title=\"List of all English Wikipedia pages containing links to this page [j]\">\\n         What links here\\n        </a>\\n       </li>\\n       <li id=\"t-recentchangeslinked\">\\n        <a accesskey=\"k\" href=\"/wiki/Special:RecentChangesLinked/List_of_most-streamed_artists_on_Spotify\" rel=\"nofollow\" title=\"Recent changes in pages linked from this page [k]\">\\n         Related changes\\n        </a>\\n       </li>\\n       <li id=\"t-upload\">\\n        <a accesskey=\"u\" href=\"/wiki/Wikipedia:File_Upload_Wizard\" title=\"Upload files [u]\">\\n         Upload file\\n        </a>\\n       </li>\\n       <li id=\"t-specialpages\">\\n        <a accesskey=\"q\" href=\"/wiki/Special:SpecialPages\" title=\"A list of all special pages [q]\">\\n         Special pages\\n        </a>\\n       </li>\\n       <li id=\"t-permalink\">\\n        <a href=\"/w/index.php?title=List_of_most-streamed_artists_on_Spotify&amp;oldid=983378710\" title=\"Permanent link to this revision of this page\">\\n         Permanent link\\n        </a>\\n       </li>\\n       <li id=\"t-info\">\\n        <a href=\"/w/index.php?title=List_of_most-streamed_artists_on_Spotify&amp;action=info\" title=\"More information about this page\">\\n         Page information\\n        </a>\\n       </li>\\n       <li id=\"t-cite\">\\n        <a href=\"/w/index.php?title=Special:CiteThisPage&amp;page=List_of_most-streamed_artists_on_Spotify&amp;id=983378710&amp;wpFormIdentifier=titleform\" title=\"Information on how to cite this page\">\\n         Cite this page\\n        </a>\\n       </li>\\n       <li id=\"t-wikibase\">\\n        <a accesskey=\"g\" href=\"https://www.wikidata.org/wiki/Special:EntityPage/Q48997743\" title=\"Structured data on this page hosted by Wikidata [g]\">\\n         Wikidata item\\n        </a>\\n       </li>\\n      </ul>\\n     </div>\\n    </nav>\\n    <!-- Please do not use role attribute as CSS selector, it is deprecated. -->\\n    <nav aria-labelledby=\"p-coll-print_export-label\" class=\"vector-menu vector-menu-portal portal\" id=\"p-coll-print_export\" role=\"navigation\">\\n     <h3 id=\"p-coll-print_export-label\">\\n      <span>\\n       Print/export\\n      </span>\\n     </h3>\\n     <!-- Please do not use the .body class, it is deprecated. -->\\n     <div class=\"body vector-menu-content\">\\n      <!-- Please do not use the .menu class, it is deprecated. -->\\n      <ul class=\"vector-menu-content-list\">\\n       <li id=\"coll-download-as-rl\">\\n        <a href=\"/w/index.php?title=Special:DownloadAsPdf&amp;page=List_of_most-streamed_artists_on_Spotify&amp;action=show-download-screen\" title=\"Download this page as a PDF file\">\\n         Download as PDF\\n        </a>\\n       </li>\\n       <li id=\"t-print\">\\n        <a accesskey=\"p\" href=\"/w/index.php?title=List_of_most-streamed_artists_on_Spotify&amp;printable=yes\" title=\"Printable version of this page [p]\">\\n         Printable version\\n        </a>\\n       </li>\\n      </ul>\\n     </div>\\n    </nav>\\n    <!-- Please do not use role attribute as CSS selector, it is deprecated. -->\\n    <nav aria-labelledby=\"p-lang-label\" class=\"vector-menu vector-menu-portal portal\" id=\"p-lang\" role=\"navigation\">\\n     <h3 id=\"p-lang-label\">\\n      <span>\\n       Languages\\n      </span>\\n     </h3>\\n     <!-- Please do not use the .body class, it is deprecated. -->\\n     <div class=\"body vector-menu-content\">\\n      <!-- Please do not use the .menu class, it is deprecated. -->\\n      <ul class=\"vector-menu-content-list\">\\n       <li class=\"interlanguage-link interwiki-de\">\\n        <a class=\"interlanguage-link-target\" href=\"https://de.wikipedia.org/wiki/Liste_der_meistgestreamten_K%C3%BCnstler_auf_Spotify\" hreflang=\"de\" lang=\"de\" title=\"Liste der meistgestreamten Künstler auf Spotify – German\">\\n         Deutsch\\n        </a>\\n       </li>\\n       <li class=\"interlanguage-link interwiki-fr\">\\n        <a class=\"interlanguage-link-target\" href=\"https://fr.wikipedia.org/wiki/Artistes_les_plus_%C3%A9cout%C3%A9s_sur_Spotify\" hreflang=\"fr\" lang=\"fr\" title=\"Artistes les plus écoutés sur Spotify – French\">\\n         Français\\n        </a>\\n       </li>\\n       <li class=\"interlanguage-link interwiki-th\">\\n        <a class=\"interlanguage-link-target\" href=\"https://th.wikipedia.org/wiki/%E0%B8%A3%E0%B8%B2%E0%B8%A2%E0%B8%8A%E0%B8%B7%E0%B9%88%E0%B8%AD%E0%B8%A8%E0%B8%B4%E0%B8%A5%E0%B8%9B%E0%B8%B4%E0%B8%99%E0%B8%97%E0%B8%B5%E0%B9%88%E0%B8%A1%E0%B8%B5%E0%B8%A2%E0%B8%AD%E0%B8%94%E0%B8%9C%E0%B8%B9%E0%B9%89%E0%B8%9F%E0%B8%B1%E0%B8%87%E0%B8%A1%E0%B8%B2%E0%B8%81%E0%B8%97%E0%B8%B5%E0%B9%88%E0%B8%AA%E0%B8%B8%E0%B8%94%E0%B9%83%E0%B8%99%E0%B8%AA%E0%B8%9B%E0%B8%AD%E0%B8%97%E0%B8%B4%E0%B8%9F%E0%B8%B2%E0%B8%A2\" hreflang=\"th\" lang=\"th\" title=\"รายชื่อศิลปินที่มียอดผู้ฟังมากที่สุดในสปอทิฟาย – Thai\">\\n         ไทย\\n        </a>\\n       </li>\\n       <li class=\"interlanguage-link interwiki-tr\">\\n        <a class=\"interlanguage-link-target\" href=\"https://tr.wikipedia.org/wiki/En_%C3%A7ok_dinlenmeye_sahip_Spotify_hesaplar%C4%B1_listesi\" hreflang=\"tr\" lang=\"tr\" title=\"En çok dinlenmeye sahip Spotify hesapları listesi – Turkish\">\\n         Türkçe\\n        </a>\\n       </li>\\n      </ul>\\n      <div class=\"after-portlet after-portlet-lang\">\\n       <span class=\"wb-langlinks-edit wb-langlinks-link\">\\n        <a class=\"wbc-editpage\" href=\"https://www.wikidata.org/wiki/Special:EntityPage/Q48997743#sitelinks-wikipedia\" title=\"Edit interlanguage links\">\\n         Edit links\\n        </a>\\n       </span>\\n      </div>\\n     </div>\\n    </nav>\\n   </div>\\n  </div>\\n  <footer class=\"mw-footer\" id=\"footer\" role=\"contentinfo\">\\n   <ul id=\"footer-info\">\\n    <li id=\"footer-info-lastmod\">\\n     This page was last edited on 13 October 2020, at 22:27\\n     <span class=\"anonymous-show\">\\n      (UTC)\\n     </span>\\n     .\\n    </li>\\n    <li id=\"footer-info-copyright\">\\n     Text is available under the\\n     <a href=\"//en.wikipedia.org/wiki/Wikipedia:Text_of_Creative_Commons_Attribution-ShareAlike_3.0_Unported_License\" rel=\"license\">\\n      Creative Commons Attribution-ShareAlike License\\n     </a>\\n     <a href=\"//creativecommons.org/licenses/by-sa/3.0/\" rel=\"license\" style=\"display:none;\">\\n     </a>\\n     ;\\nadditional terms may apply.  By using this site, you agree to the\\n     <a href=\"//foundation.wikimedia.org/wiki/Terms_of_Use\">\\n      Terms of Use\\n     </a>\\n     and\\n     <a href=\"//foundation.wikimedia.org/wiki/Privacy_policy\">\\n      Privacy Policy\\n     </a>\\n     . Wikipedia® is a registered trademark of the\\n     <a href=\"//www.wikimediafoundation.org/\">\\n      Wikimedia Foundation, Inc.\\n     </a>\\n     , a non-profit organization.\\n    </li>\\n   </ul>\\n   <ul id=\"footer-places\">\\n    <li id=\"footer-places-privacy\">\\n     <a class=\"extiw\" href=\"https://foundation.wikimedia.org/wiki/Privacy_policy\" title=\"wmf:Privacy policy\">\\n      Privacy policy\\n     </a>\\n    </li>\\n    <li id=\"footer-places-about\">\\n     <a href=\"/wiki/Wikipedia:About\" title=\"Wikipedia:About\">\\n      About Wikipedia\\n     </a>\\n    </li>\\n    <li id=\"footer-places-disclaimer\">\\n     <a href=\"/wiki/Wikipedia:General_disclaimer\" title=\"Wikipedia:General disclaimer\">\\n      Disclaimers\\n     </a>\\n    </li>\\n    <li id=\"footer-places-contact\">\\n     <a href=\"//en.wikipedia.org/wiki/Wikipedia:Contact_us\">\\n      Contact Wikipedia\\n     </a>\\n    </li>\\n    <li id=\"footer-places-mobileview\">\\n     <a class=\"noprint stopMobileRedirectToggle\" href=\"//en.m.wikipedia.org/w/index.php?title=List_of_most-streamed_artists_on_Spotify&amp;mobileaction=toggle_view_mobile\">\\n      Mobile view\\n     </a>\\n    </li>\\n    <li id=\"footer-places-developers\">\\n     <a href=\"https://www.mediawiki.org/wiki/Special:MyLanguage/How_to_contribute\">\\n      Developers\\n     </a>\\n    </li>\\n    <li id=\"footer-places-statslink\">\\n     <a href=\"https://stats.wikimedia.org/#/en.wikipedia.org\">\\n      Statistics\\n     </a>\\n    </li>\\n    <li id=\"footer-places-cookiestatement\">\\n     <a href=\"https://foundation.wikimedia.org/wiki/Cookie_statement\">\\n      Cookie statement\\n     </a>\\n    </li>\\n   </ul>\\n   <ul class=\"noprint\" id=\"footer-icons\">\\n    <li id=\"footer-copyrightico\">\\n     <a href=\"https://wikimediafoundation.org/\">\\n      <img alt=\"Wikimedia Foundation\" height=\"31\" loading=\"lazy\" src=\"/static/images/footer/wikimedia-button.png\" srcset=\"/static/images/footer/wikimedia-button-1.5x.png 1.5x, /static/images/footer/wikimedia-button-2x.png 2x\" width=\"88\"/>\\n     </a>\\n    </li>\\n    <li id=\"footer-poweredbyico\">\\n     <a href=\"https://www.mediawiki.org/\">\\n      <img alt=\"Powered by MediaWiki\" height=\"31\" loading=\"lazy\" src=\"/static/images/footer/poweredby_mediawiki_88x31.png\" srcset=\"/static/images/footer/poweredby_mediawiki_132x47.png 1.5x, /static/images/footer/poweredby_mediawiki_176x62.png 2x\" width=\"88\"/>\\n     </a>\\n    </li>\\n   </ul>\\n   <div style=\"clear: both;\">\\n   </div>\\n  </footer>\\n  <script>\\n   (RLQ=window.RLQ||[]).push(function(){mw.config.set({\"wgPageParseReport\":{\"limitreport\":{\"cputime\":\"0.612\",\"walltime\":\"0.751\",\"ppvisitednodes\":{\"value\":3053,\"limit\":1000000},\"postexpandincludesize\":{\"value\":100212,\"limit\":2097152},\"templateargumentsize\":{\"value\":2711,\"limit\":2097152},\"expansiondepth\":{\"value\":14,\"limit\":40},\"expensivefunctioncount\":{\"value\":3,\"limit\":500},\"unstrip-depth\":{\"value\":1,\"limit\":20},\"unstrip-size\":{\"value\":171208,\"limit\":5000000},\"entityaccesscount\":{\"value\":0,\"limit\":400},\"timingprofile\":[\"100.00%  656.219      1 -total\",\" 51.93%  340.807      1 Template:Reflist\",\" 38.25%  250.988     47 Template:Cite_web\",\"  7.96%   52.250      1 Template:Use_mdy_dates\",\"  6.79%   44.553      1 Template:Short_description\",\"  6.03%   39.587      2 Template:Ambox\",\"  5.98%   39.238      1 Template:Unreliable_sources\",\"  5.37%   35.218      2 Template:Legend\",\"  5.32%   34.933      4 Template:Broken_ref\",\"  3.90%   25.599      1 Template:DMCA\"]},\"scribunto\":{\"limitreport-timeusage\":{\"value\":\"0.300\",\"limit\":\"10.000\"},\"limitreport-memusage\":{\"value\":6999257,\"limit\":52428800}},\"cachereport\":{\"origin\":\"mw2356\",\"timestamp\":\"20201013222755\",\"ttl\":2592000,\"transientcontent\":false}}});});\\n  </script>\\n  <script type=\"application/ld+json\">\\n   {\"@context\":\"https:\\\\/\\\\/schema.org\",\"@type\":\"Article\",\"name\":\"List of most-streamed artists on Spotify\",\"url\":\"https:\\\\/\\\\/en.wikipedia.org\\\\/wiki\\\\/List_of_most-streamed_artists_on_Spotify\",\"sameAs\":\"http:\\\\/\\\\/www.wikidata.org\\\\/entity\\\\/Q48997743\",\"mainEntity\":\"http:\\\\/\\\\/www.wikidata.org\\\\/entity\\\\/Q48997743\",\"author\":{\"@type\":\"Organization\",\"name\":\"Contributors to Wikimedia projects\"},\"publisher\":{\"@type\":\"Organization\",\"name\":\"Wikimedia Foundation, Inc.\",\"logo\":{\"@type\":\"ImageObject\",\"url\":\"https:\\\\/\\\\/www.wikimedia.org\\\\/static\\\\/images\\\\/wmf-hor-googpub.png\"}},\"datePublished\":\"2017-10-07T09:38:51Z\",\"dateModified\":\"2020-10-13T22:27:58Z\",\"image\":\"https:\\\\/\\\\/upload.wikimedia.org\\\\/wikipedia\\\\/commons\\\\/b\\\\/b8\\\\/FEQ_July_2018_The_Weeknd_%2844778856382%29_%28cropped%29.jpg\",\"headline\":\"Wikimedia list article\"}\\n  </script>\\n  <script>\\n   (RLQ=window.RLQ||[]).push(function(){mw.config.set({\"wgBackendResponseTime\":114,\"wgHostname\":\"mw2303\"});});\\n  </script>\\n </body>\\n</html>'"
      ]
     },
     "metadata": {},
     "execution_count": 10
    }
   ],
   "source": [
    "# Convert to a BeautifulSoup Object\n",
    "soup2 = bs(response2.text,\"html.parser\")\n",
    "# Print out our html\n",
    "soup2.prettify()"
   ]
  },
  {
   "cell_type": "code",
   "execution_count": 11,
   "metadata": {},
   "outputs": [],
   "source": [
    "#Finding the table on the page that will have the Top Songs Streamed on Spotify\n",
    "\n",
    "table2 = soup2.find('table',{'class':'wikitable sortable'})\n"
   ]
  },
  {
   "cell_type": "code",
   "execution_count": 12,
   "metadata": {},
   "outputs": [],
   "source": [
    "#Looking for all rows of the table\n",
    "table_rows2 = table2.find_all('tr')"
   ]
  },
  {
   "cell_type": "code",
   "execution_count": 13,
   "metadata": {},
   "outputs": [
    {
     "output_type": "execute_result",
     "data": {
      "text/plain": [
       "          Artist Listeners per Month\n",
       "1     The Weeknd               61.93\n",
       "2          Drake               60.94\n",
       "3  Justin Bieber               58.28\n",
       "4       J Balvin               55.31\n",
       "5       Dua Lipa               54.26"
      ],
      "text/html": "<div>\n<style scoped>\n    .dataframe tbody tr th:only-of-type {\n        vertical-align: middle;\n    }\n\n    .dataframe tbody tr th {\n        vertical-align: top;\n    }\n\n    .dataframe thead th {\n        text-align: right;\n    }\n</style>\n<table border=\"1\" class=\"dataframe\">\n  <thead>\n    <tr style=\"text-align: right;\">\n      <th></th>\n      <th>Artist</th>\n      <th>Listeners per Month</th>\n    </tr>\n  </thead>\n  <tbody>\n    <tr>\n      <th>1</th>\n      <td>The Weeknd</td>\n      <td>61.93</td>\n    </tr>\n    <tr>\n      <th>2</th>\n      <td>Drake</td>\n      <td>60.94</td>\n    </tr>\n    <tr>\n      <th>3</th>\n      <td>Justin Bieber</td>\n      <td>58.28</td>\n    </tr>\n    <tr>\n      <th>4</th>\n      <td>J Balvin</td>\n      <td>55.31</td>\n    </tr>\n    <tr>\n      <th>5</th>\n      <td>Dua Lipa</td>\n      <td>54.26</td>\n    </tr>\n  </tbody>\n</table>\n</div>"
     },
     "metadata": {},
     "execution_count": 13
    }
   ],
   "source": [
    "#Populating data.  We are then taking out the first row which was null and creating a DataFrame from it. Finally, we are only taking the Artist and Listeners per Month\n",
    "\n",
    "data2 = []\n",
    "for row in table_rows2:\n",
    "    data2.append([t.text.strip() for t in row.find_all('td')])\n",
    "\n",
    "df = pd.DataFrame(data2, columns = ['Artist','Listeners per Month','Chg','Ref'])\n",
    "\n",
    "df = df[~df['Artist'].isnull()]\n",
    "df2 = df[['Artist','Listeners per Month']]\n",
    "df2.head()"
   ]
  },
  {
   "cell_type": "code",
   "execution_count": 14,
   "metadata": {},
   "outputs": [],
   "source": [
    "#Exporting DataFrame to a csv\n",
    "\n",
    "df2.to_csv('ArtistsListenersPerMonth.csv', index=True)"
   ]
  },
  {
   "cell_type": "code",
   "execution_count": null,
   "metadata": {},
   "outputs": [],
   "source": []
  }
 ]
}