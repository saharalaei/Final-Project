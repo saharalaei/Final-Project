{
 "cells": [
  {
   "cell_type": "code",
   "execution_count": 1,
   "metadata": {},
   "outputs": [],
   "source": [
    "import os\n",
    "import numpy as np                                          # arrays and matrix math\n",
    "import pandas as pd                                         # DataFrames\n",
    "\n",
    "from sklearn import metrics                                 # measures to check our models\n",
    "from sklearn.model_selection import train_test_split        # train and test split\n",
    "from sklearn.ensemble import RandomForestRegressor          # random forest method\n",
    "from sklearn.cluster import KMeans\n",
    "import joblib"
   ]
  },
  {
   "cell_type": "code",
   "execution_count": 24,
   "metadata": {},
   "outputs": [],
   "source": [
    "'''\n",
    "The entries below have to follow the order. \n",
    "['danceability','energy','speechiness','instrumentalness','liveness','valence','tempo','chorus_hit']\n",
    "'''\n",
    "data = [(0.539695,0.579545,0.072960,0.154416,0.201535,0.542440,119.338249,40.106041)]\n",
    "\n",
    "filename = 'finalized_model.sav'\n",
    "loaded_model = joblib.load(filename)\n",
    "predicted_cluster = int(loaded_model.predict(data))"
   ]
  },
  {
   "cell_type": "code",
   "execution_count": 18,
   "metadata": {},
   "outputs": [],
   "source": [
    "df = pd.read_csv('clustered_data.csv')"
   ]
  },
  {
   "cell_type": "code",
   "execution_count": 31,
   "metadata": {},
   "outputs": [],
   "source": [
    "df_selected = df[df['cluster_num'] == predicted_cluster]"
   ]
  },
  {
   "cell_type": "code",
   "execution_count": 34,
   "metadata": {},
   "outputs": [
    {
     "data": {
      "text/html": [
       "<div>\n",
       "<style scoped>\n",
       "    .dataframe tbody tr th:only-of-type {\n",
       "        vertical-align: middle;\n",
       "    }\n",
       "\n",
       "    .dataframe tbody tr th {\n",
       "        vertical-align: top;\n",
       "    }\n",
       "\n",
       "    .dataframe thead th {\n",
       "        text-align: right;\n",
       "    }\n",
       "</style>\n",
       "<table border=\"1\" class=\"dataframe\">\n",
       "  <thead>\n",
       "    <tr style=\"text-align: right;\">\n",
       "      <th></th>\n",
       "      <th>track</th>\n",
       "      <th>artist</th>\n",
       "      <th>uri</th>\n",
       "      <th>danceability</th>\n",
       "      <th>energy</th>\n",
       "      <th>speechiness</th>\n",
       "      <th>instrumentalness</th>\n",
       "      <th>liveness</th>\n",
       "      <th>valence</th>\n",
       "      <th>tempo</th>\n",
       "      <th>chorus_hit</th>\n",
       "      <th>cluster_num</th>\n",
       "    </tr>\n",
       "  </thead>\n",
       "  <tbody>\n",
       "    <tr>\n",
       "      <th>2876</th>\n",
       "      <td>Light A Roman Candle With Me</td>\n",
       "      <td>fun.</td>\n",
       "      <td>spotify:track:5pxGxR8ltHAluRyn9FSKOh</td>\n",
       "      <td>0.694</td>\n",
       "      <td>0.525</td>\n",
       "      <td>0.0387</td>\n",
       "      <td>0.000000</td>\n",
       "      <td>0.108</td>\n",
       "      <td>0.177</td>\n",
       "      <td>129.084</td>\n",
       "      <td>60.23959</td>\n",
       "      <td>217</td>\n",
       "    </tr>\n",
       "    <tr>\n",
       "      <th>37650</th>\n",
       "      <td>Chorus</td>\n",
       "      <td>Erasure</td>\n",
       "      <td>spotify:track:6gGie940lliTLLt85tZPp7</td>\n",
       "      <td>0.613</td>\n",
       "      <td>0.655</td>\n",
       "      <td>0.0302</td>\n",
       "      <td>0.000754</td>\n",
       "      <td>0.171</td>\n",
       "      <td>0.690</td>\n",
       "      <td>129.906</td>\n",
       "      <td>59.78093</td>\n",
       "      <td>217</td>\n",
       "    </tr>\n",
       "    <tr>\n",
       "      <th>35660</th>\n",
       "      <td>L.A. Song</td>\n",
       "      <td>Beth Hart</td>\n",
       "      <td>spotify:track:69pBTbnLue0leYUCMAFqPj</td>\n",
       "      <td>0.351</td>\n",
       "      <td>0.615</td>\n",
       "      <td>0.0451</td>\n",
       "      <td>0.000000</td>\n",
       "      <td>0.985</td>\n",
       "      <td>0.337</td>\n",
       "      <td>127.798</td>\n",
       "      <td>58.57055</td>\n",
       "      <td>217</td>\n",
       "    </tr>\n",
       "  </tbody>\n",
       "</table>\n",
       "</div>"
      ],
      "text/plain": [
       "                              track     artist  \\\n",
       "2876   Light A Roman Candle With Me       fun.   \n",
       "37650                        Chorus    Erasure   \n",
       "35660                     L.A. Song  Beth Hart   \n",
       "\n",
       "                                        uri  danceability  energy  \\\n",
       "2876   spotify:track:5pxGxR8ltHAluRyn9FSKOh         0.694   0.525   \n",
       "37650  spotify:track:6gGie940lliTLLt85tZPp7         0.613   0.655   \n",
       "35660  spotify:track:69pBTbnLue0leYUCMAFqPj         0.351   0.615   \n",
       "\n",
       "       speechiness  instrumentalness  liveness  valence    tempo  chorus_hit  \\\n",
       "2876        0.0387          0.000000     0.108    0.177  129.084    60.23959   \n",
       "37650       0.0302          0.000754     0.171    0.690  129.906    59.78093   \n",
       "35660       0.0451          0.000000     0.985    0.337  127.798    58.57055   \n",
       "\n",
       "       cluster_num  \n",
       "2876           217  \n",
       "37650          217  \n",
       "35660          217  "
      ]
     },
     "execution_count": 34,
     "metadata": {},
     "output_type": "execute_result"
    }
   ],
   "source": [
    "df_selected.sample(3)"
   ]
  },
  {
   "cell_type": "code",
   "execution_count": null,
   "metadata": {},
   "outputs": [],
   "source": []
  }
 ],
 "metadata": {
  "kernelspec": {
   "display_name": "Python 3",
   "language": "python",
   "name": "python3"
  },
  "language_info": {
   "codemirror_mode": {
    "name": "ipython",
    "version": 3
   },
   "file_extension": ".py",
   "mimetype": "text/x-python",
   "name": "python",
   "nbconvert_exporter": "python",
   "pygments_lexer": "ipython3",
   "version": "3.7.4"
  }
 },
 "nbformat": 4,
 "nbformat_minor": 2
}
