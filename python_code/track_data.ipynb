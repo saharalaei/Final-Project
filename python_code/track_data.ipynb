{
 "cells": [
  {
   "cell_type": "code",
   "execution_count": 14,
   "metadata": {},
   "outputs": [],
   "source": [
    "#modules\n",
    "import pymongo\n",
    "import dns\n",
    "import matplotlib.pyplot as plt\n",
    "import pandas as pd\n",
    "import requests\n",
    "import numpy as np\n",
    "from datetime import date\n",
    "from config import mongo_uri\n",
    "import pprint\n",
    "import json"
   ]
  },
  {
   "cell_type": "code",
   "execution_count": 2,
   "metadata": {},
   "outputs": [],
   "source": [
    "#connect to mongo db\n",
    "client = pymongo.MongoClient(mongo_uri)"
   ]
  },
  {
   "cell_type": "code",
   "execution_count": 3,
   "metadata": {},
   "outputs": [
    {
     "name": "stdout",
     "output_type": "stream",
     "text": [
      "Hunter Havins\n",
      "Henry Byoun\n",
      "Avery Davis Lamb\n",
      "Mitch Klee\n",
      "Jonathan\n"
     ]
    }
   ],
   "source": [
    "#looking at all the names for users in the database\n",
    "for i in client.spotify['user-data'].find():\n",
    "     print(i['name'])"
   ]
  },
  {
   "cell_type": "markdown",
   "metadata": {},
   "source": [
    "## Following script just takes the track data from a single user. Here we will be using my (Henry's) data. First we can query a user by their name and then extract the audio analysis data from their top 50 tracks."
   ]
  },
  {
   "cell_type": "code",
   "execution_count": 4,
   "metadata": {},
   "outputs": [],
   "source": [
    "#use the parameter inside find() to query a specific document in the collection\n",
    "#here I am querying Henry's data by declaring {'name' : 'Henry'}\n",
    "\n",
    "henry_top_tracks = client.spotify['user-data'].find({'name':'Henry Byoun'})[0]['top_50_tracks']\n",
    "#henry_top_tracks[0]['audio_features'][0]\n",
    "#henry_top_tracks[0]"
   ]
  },
  {
   "cell_type": "code",
   "execution_count": 5,
   "metadata": {},
   "outputs": [],
   "source": [
    "name = []\n",
    "artist = []\n",
    "album = []\n",
    "track_id = []\n",
    "danceability = []\n",
    "energy = []\n",
    "key = []\n",
    "loudness = []\n",
    "speechiness = []\n",
    "acousticness = []\n",
    "instrumentalness = []\n",
    "liveness = []\n",
    "valence = []\n",
    "tempo = []\n",
    "duration_ms = []\n",
    "\n",
    "\n",
    "for i in range(len(henry_top_tracks)):\n",
    "    name.append(henry_top_tracks[i]['track'])\n",
    "    artist.append(henry_top_tracks[i]['artist'])\n",
    "    album.append(henry_top_tracks[i]['album'])\n",
    "    track_id.append(henry_top_tracks[i]['id'])\n",
    "    danceability.append(henry_top_tracks[i]['audio_features'][0]['danceability'])\n",
    "    energy.append(henry_top_tracks[i]['audio_features'][0]['energy'])\n",
    "    key.append(henry_top_tracks[i]['audio_features'][0]['key'])\n",
    "    loudness.append(henry_top_tracks[i]['audio_features'][0]['loudness'])   \n",
    "    speechiness.append(henry_top_tracks[i]['audio_features'][0]['speechiness'])  \n",
    "    acousticness.append(henry_top_tracks[i]['audio_features'][0]['acousticness']) \n",
    "    instrumentalness.append(henry_top_tracks[i]['audio_features'][0]['instrumentalness']) \n",
    "    liveness.append(henry_top_tracks[i]['audio_features'][0]['liveness']) \n",
    "    valence.append(henry_top_tracks[i]['audio_features'][0]['valence'])  \n",
    "    tempo.append(henry_top_tracks[i]['audio_features'][0]['tempo'])  \n",
    "    duration_ms.append(henry_top_tracks[i]['audio_features'][0]['duration_ms'])"
   ]
  },
  {
   "cell_type": "code",
   "execution_count": 6,
   "metadata": {},
   "outputs": [],
   "source": [
    "henry_tracks = pd.DataFrame({'name':name,\n",
    "                       'artist':artist,\n",
    "                       'album': album,\n",
    "                       'track_id': track_id,\n",
    "                       'danceability':danceability,\n",
    "                       'energy':energy,\n",
    "                       'key':key,\n",
    "                       'loudness':loudness,\n",
    "                       'speechiness':speechiness,\n",
    "                       'acousticness': acousticness,\n",
    "                       'instrumentalness': instrumentalness,\n",
    "                       'liveness':liveness,\n",
    "                       'valence':valence,\n",
    "                       'tempo':tempo,\n",
    "                       'duration_ms':duration_ms\n",
    "                       })"
   ]
  },
  {
   "cell_type": "code",
   "execution_count": 7,
   "metadata": {},
   "outputs": [
    {
     "data": {
      "text/html": [
       "<div>\n",
       "<style scoped>\n",
       "    .dataframe tbody tr th:only-of-type {\n",
       "        vertical-align: middle;\n",
       "    }\n",
       "\n",
       "    .dataframe tbody tr th {\n",
       "        vertical-align: top;\n",
       "    }\n",
       "\n",
       "    .dataframe thead th {\n",
       "        text-align: right;\n",
       "    }\n",
       "</style>\n",
       "<table border=\"1\" class=\"dataframe\">\n",
       "  <thead>\n",
       "    <tr style=\"text-align: right;\">\n",
       "      <th></th>\n",
       "      <th>name</th>\n",
       "      <th>artist</th>\n",
       "      <th>album</th>\n",
       "      <th>track_id</th>\n",
       "      <th>danceability</th>\n",
       "      <th>energy</th>\n",
       "      <th>key</th>\n",
       "      <th>loudness</th>\n",
       "      <th>speechiness</th>\n",
       "      <th>acousticness</th>\n",
       "      <th>instrumentalness</th>\n",
       "      <th>liveness</th>\n",
       "      <th>valence</th>\n",
       "      <th>tempo</th>\n",
       "      <th>duration_ms</th>\n",
       "    </tr>\n",
       "  </thead>\n",
       "  <tbody>\n",
       "    <tr>\n",
       "      <td>0</td>\n",
       "      <td>Through the Night</td>\n",
       "      <td>IU</td>\n",
       "      <td>Palette</td>\n",
       "      <td>3P3UA61WRQqwCXaoFOTENd</td>\n",
       "      <td>0.428</td>\n",
       "      <td>0.313</td>\n",
       "      <td>8</td>\n",
       "      <td>-7.327</td>\n",
       "      <td>0.0391</td>\n",
       "      <td>0.757</td>\n",
       "      <td>0.000000</td>\n",
       "      <td>0.3090</td>\n",
       "      <td>0.284</td>\n",
       "      <td>78.723</td>\n",
       "      <td>253293</td>\n",
       "    </tr>\n",
       "    <tr>\n",
       "      <td>1</td>\n",
       "      <td>Dear Name</td>\n",
       "      <td>IU</td>\n",
       "      <td>Palette</td>\n",
       "      <td>1DP0uwV6tMlCEfR61Mh7ki</td>\n",
       "      <td>0.312</td>\n",
       "      <td>0.589</td>\n",
       "      <td>2</td>\n",
       "      <td>-5.071</td>\n",
       "      <td>0.0334</td>\n",
       "      <td>0.459</td>\n",
       "      <td>0.000000</td>\n",
       "      <td>0.1060</td>\n",
       "      <td>0.237</td>\n",
       "      <td>133.854</td>\n",
       "      <td>289580</td>\n",
       "    </tr>\n",
       "    <tr>\n",
       "      <td>2</td>\n",
       "      <td>Departures - Anata Ni Okuru Ai No Uta</td>\n",
       "      <td>EGOIST</td>\n",
       "      <td>Extra Terrestrial Biological Entities</td>\n",
       "      <td>33w7LgNJIuhs5dhSYZ0do1</td>\n",
       "      <td>0.473</td>\n",
       "      <td>0.431</td>\n",
       "      <td>2</td>\n",
       "      <td>-8.172</td>\n",
       "      <td>0.0305</td>\n",
       "      <td>0.493</td>\n",
       "      <td>0.000000</td>\n",
       "      <td>0.0752</td>\n",
       "      <td>0.283</td>\n",
       "      <td>143.862</td>\n",
       "      <td>255013</td>\n",
       "    </tr>\n",
       "    <tr>\n",
       "      <td>3</td>\n",
       "      <td>dlwlrma</td>\n",
       "      <td>IU</td>\n",
       "      <td>Palette</td>\n",
       "      <td>4NPARrLIbtMl29ZJv8ESr2</td>\n",
       "      <td>0.738</td>\n",
       "      <td>0.641</td>\n",
       "      <td>4</td>\n",
       "      <td>-3.440</td>\n",
       "      <td>0.0475</td>\n",
       "      <td>0.315</td>\n",
       "      <td>0.000000</td>\n",
       "      <td>0.1140</td>\n",
       "      <td>0.631</td>\n",
       "      <td>119.867</td>\n",
       "      <td>176099</td>\n",
       "    </tr>\n",
       "    <tr>\n",
       "      <td>4</td>\n",
       "      <td>잠 못 드는 밤 비는 내리고 [Jam Mot Deuneun Bam Bineun Na...</td>\n",
       "      <td>IU</td>\n",
       "      <td>꽃갈피 둘 [Kkot-Galpi #2] : A flower bookmark</td>\n",
       "      <td>546tamGotuR5Mhbe35ONAv</td>\n",
       "      <td>0.761</td>\n",
       "      <td>0.456</td>\n",
       "      <td>10</td>\n",
       "      <td>-7.817</td>\n",
       "      <td>0.0461</td>\n",
       "      <td>0.727</td>\n",
       "      <td>0.000103</td>\n",
       "      <td>0.1430</td>\n",
       "      <td>0.460</td>\n",
       "      <td>91.028</td>\n",
       "      <td>266517</td>\n",
       "    </tr>\n",
       "  </tbody>\n",
       "</table>\n",
       "</div>"
      ],
      "text/plain": [
       "                                                name  artist  \\\n",
       "0                                  Through the Night      IU   \n",
       "1                                          Dear Name      IU   \n",
       "2              Departures - Anata Ni Okuru Ai No Uta  EGOIST   \n",
       "3                                            dlwlrma      IU   \n",
       "4  잠 못 드는 밤 비는 내리고 [Jam Mot Deuneun Bam Bineun Na...      IU   \n",
       "\n",
       "                                       album                track_id  \\\n",
       "0                                    Palette  3P3UA61WRQqwCXaoFOTENd   \n",
       "1                                    Palette  1DP0uwV6tMlCEfR61Mh7ki   \n",
       "2      Extra Terrestrial Biological Entities  33w7LgNJIuhs5dhSYZ0do1   \n",
       "3                                    Palette  4NPARrLIbtMl29ZJv8ESr2   \n",
       "4  꽃갈피 둘 [Kkot-Galpi #2] : A flower bookmark  546tamGotuR5Mhbe35ONAv   \n",
       "\n",
       "   danceability  energy  key  loudness  speechiness  acousticness  \\\n",
       "0         0.428   0.313    8    -7.327       0.0391         0.757   \n",
       "1         0.312   0.589    2    -5.071       0.0334         0.459   \n",
       "2         0.473   0.431    2    -8.172       0.0305         0.493   \n",
       "3         0.738   0.641    4    -3.440       0.0475         0.315   \n",
       "4         0.761   0.456   10    -7.817       0.0461         0.727   \n",
       "\n",
       "   instrumentalness  liveness  valence    tempo  duration_ms  \n",
       "0          0.000000    0.3090    0.284   78.723       253293  \n",
       "1          0.000000    0.1060    0.237  133.854       289580  \n",
       "2          0.000000    0.0752    0.283  143.862       255013  \n",
       "3          0.000000    0.1140    0.631  119.867       176099  \n",
       "4          0.000103    0.1430    0.460   91.028       266517  "
      ]
     },
     "execution_count": 7,
     "metadata": {},
     "output_type": "execute_result"
    }
   ],
   "source": [
    "henry_tracks.head()"
   ]
  },
  {
   "cell_type": "code",
   "execution_count": 8,
   "metadata": {},
   "outputs": [],
   "source": [
    "henry_tracks.to_csv('../data/henrys_track_data.csv', index = False)"
   ]
  },
  {
   "cell_type": "markdown",
   "metadata": {},
   "source": [
    "## Similar script below but now we will query all of the tracks from all users"
   ]
  },
  {
   "cell_type": "code",
   "execution_count": 9,
   "metadata": {},
   "outputs": [],
   "source": [
    "all_top_tracks = client.spotify['user-data'].find()\n",
    "db_len = int(client.spotify['user-data'].count_documents({}))"
   ]
  },
  {
   "cell_type": "code",
   "execution_count": 10,
   "metadata": {},
   "outputs": [],
   "source": [
    "name = []\n",
    "artist = []\n",
    "album = []\n",
    "track_id = []\n",
    "danceability = []\n",
    "energy = []\n",
    "key = []\n",
    "loudness = []\n",
    "speechiness = []\n",
    "acousticness = []\n",
    "instrumentalness = []\n",
    "liveness = []\n",
    "valence = []\n",
    "tempo = []\n",
    "duration_ms = []\n",
    "\n",
    "\n",
    "top_tracks = []\n",
    "for k in range(db_len):\n",
    "    top_tracks.append(all_top_tracks[k]['top_50_tracks'])\n",
    "    \n",
    "for ii in range(len(top_tracks)):   \n",
    "    for i in range(len(top_tracks[ii])):\n",
    "        name.append(top_tracks[ii][i]['track'])\n",
    "        artist.append(top_tracks[ii][i]['artist'])\n",
    "        album.append(top_tracks[ii][i]['album'])\n",
    "        track_id.append(top_tracks[ii][i]['id'])\n",
    "        danceability.append(top_tracks[ii][i]['audio_features'][0]['danceability'])\n",
    "        energy.append(top_tracks[ii][i]['audio_features'][0]['energy'])\n",
    "        key.append(top_tracks[ii][i]['audio_features'][0]['key'])\n",
    "        loudness.append(top_tracks[ii][i]['audio_features'][0]['loudness'])   \n",
    "        speechiness.append(top_tracks[ii][i]['audio_features'][0]['speechiness'])  \n",
    "        acousticness.append(top_tracks[ii][i]['audio_features'][0]['acousticness']) \n",
    "        instrumentalness.append(top_tracks[ii][i]['audio_features'][0]['instrumentalness']) \n",
    "        liveness.append(top_tracks[ii][i]['audio_features'][0]['liveness']) \n",
    "        valence.append(top_tracks[ii][i]['audio_features'][0]['valence'])  \n",
    "        tempo.append(top_tracks[ii][i]['audio_features'][0]['tempo'])  \n",
    "        duration_ms.append(top_tracks[ii][i]['audio_features'][0]['duration_ms'])"
   ]
  },
  {
   "cell_type": "code",
   "execution_count": 11,
   "metadata": {},
   "outputs": [
    {
     "name": "stdout",
     "output_type": "stream",
     "text": [
      "250\n",
      "250\n",
      "250\n",
      "250\n",
      "250\n",
      "250\n",
      "250\n",
      "250\n",
      "250\n",
      "250\n",
      "250\n",
      "250\n",
      "250\n",
      "250\n",
      "250\n"
     ]
    }
   ],
   "source": [
    "print(len(name))\n",
    "print(len(artist))\n",
    "print(len(album))\n",
    "print(len(track_id))\n",
    "print(len(danceability))\n",
    "print(len(energy))\n",
    "print(len(key))\n",
    "print(len(loudness))\n",
    "print(len(speechiness))\n",
    "print(len(acousticness))\n",
    "print(len(instrumentalness))\n",
    "print(len(liveness))\n",
    "print(len(valence))\n",
    "print(len(tempo))\n",
    "print(len(duration_ms))"
   ]
  },
  {
   "cell_type": "code",
   "execution_count": 12,
   "metadata": {},
   "outputs": [],
   "source": [
    "all_user_tracks = pd.DataFrame({'name':name,\n",
    "                       'artist':artist,\n",
    "                       'album': album,\n",
    "                       'track_id': track_id,\n",
    "                       'danceability':danceability,\n",
    "                       'energy':energy,\n",
    "                       'key':key,\n",
    "                       'loudness':loudness,\n",
    "                       'speechiness':speechiness,\n",
    "                       'acousticness': acousticness,\n",
    "                       'instrumentalness': instrumentalness,\n",
    "                       'liveness':liveness,\n",
    "                       'valence':valence,\n",
    "                       'tempo':tempo,\n",
    "                       'duration_ms':duration_ms\n",
    "                       })"
   ]
  },
  {
   "cell_type": "code",
   "execution_count": 13,
   "metadata": {},
   "outputs": [],
   "source": [
    "all_user_tracks.to_csv('../data/all_user_track_data.csv', index = False)"
   ]
  },
  {
   "cell_type": "code",
   "execution_count": null,
   "metadata": {},
   "outputs": [],
   "source": []
  },
  {
   "cell_type": "code",
   "execution_count": 25,
   "metadata": {},
   "outputs": [],
   "source": [
    "henrys_data = client.spotify['user-data'].find({'name':'Henry Byoun'})[0]\n",
    "#henrys_data"
   ]
  },
  {
   "cell_type": "code",
   "execution_count": 26,
   "metadata": {},
   "outputs": [
    {
     "data": {
      "text/plain": [
       "ObjectId('5f83b79d84cc2e1c63f65f9e')"
      ]
     },
     "execution_count": 26,
     "metadata": {},
     "output_type": "execute_result"
    }
   ],
   "source": [
    "#remove the mongo_db index, not jsonable data\n",
    "henrys_data.pop('_id', None)"
   ]
  },
  {
   "cell_type": "code",
   "execution_count": 27,
   "metadata": {},
   "outputs": [],
   "source": [
    "with open('../data/henry_data.json', 'w') as json_file:\n",
    "    json.dump(henrys_data, json_file)"
   ]
  },
  {
   "cell_type": "code",
   "execution_count": null,
   "metadata": {},
   "outputs": [],
   "source": []
  }
 ],
 "metadata": {
  "kernelspec": {
   "display_name": "Python 3",
   "language": "python",
   "name": "python3"
  },
  "language_info": {
   "codemirror_mode": {
    "name": "ipython",
    "version": 3
   },
   "file_extension": ".py",
   "mimetype": "text/x-python",
   "name": "python",
   "nbconvert_exporter": "python",
   "pygments_lexer": "ipython3",
   "version": "3.7.4"
  }
 },
 "nbformat": 4,
 "nbformat_minor": 2
}
