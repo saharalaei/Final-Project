{
 "cells": [
  {
   "cell_type": "code",
   "execution_count": 38,
   "metadata": {},
   "outputs": [],
   "source": [
    "# import needed libraries\n",
    "\n",
    "import pandas as pd \n",
    "import json\n",
    "import matplotlib.pyplot as plt"
   ]
  },
  {
   "cell_type": "code",
   "execution_count": 61,
   "metadata": {},
   "outputs": [],
   "source": [
    "# Extracting data\n",
    "\n",
    "user_url = 'henry_data.json'\n",
    "\n",
    "with open(user_url) as json_data:\n",
    "    data = json.load(json_data)\n",
    "\n",
    "total_user_genres = data[\"genres\"]\n",
    "user_name = data[\"name\"]\n",
    "user_uodate_date = data[\"date_updated\"]\n",
    "top50_user_artists_info = data[\"top_50_artists\"]\n",
    "top50_user_tracks_info = data[\"top_50_tracks\"]\n",
    "\n",
    "top50_artist = []\n",
    "top50_genre = []\n",
    "top50_popularity = []\n",
    "\n",
    "for i in range(len(top50_user_artists_info)):\n",
    "    top50_artist.append(top50_user_artists_info[i]['artist'])\n",
    "    top50_genre.append(top50_user_artists_info[i]['genres'])\n",
    "    top50_popularity.append(top50_user_artists_info[i]['popularity'])\n",
    "    \n",
    "top50_track = []\n",
    "top50_album = []\n",
    "top50_audio_features = []\n",
    "\n",
    "for i in range(len(top50_user_tracks_info)):\n",
    "    top50_track.append(top50_user_tracks_info[i]['track'])\n",
    "    top50_album.append(top50_user_tracks_info[i]['album'])\n",
    "    top50_audio_features.append(top50_user_tracks_info[i]['audio_features'])\n",
    "    \n",
    "\n",
    "danceability = []\n",
    "energy  = []\n",
    "loudness = []\n",
    "mode = []\n",
    "speechiness = []\n",
    "acousticness = []\n",
    "instrumentalness = []\n",
    "liveness = []\n",
    "Happiness = []\n",
    "tempo = []\n",
    "duration_ms = []\n",
    "\n",
    "for i in range(len(top50_audio_features)):\n",
    "    danceability.append(top50_audio_features[i][0]['danceability'])\n",
    "    energy.append(top50_audio_features[i][0]['energy'])\n",
    "    loudness.append(top50_audio_features[i][0]['loudness'])\n",
    "    mode.append(top50_audio_features[i][0]['mode'])\n",
    "    speechiness.append(top50_audio_features[i][0]['speechiness'])\n",
    "    acousticness.append(top50_audio_features[i][0]['acousticness'])\n",
    "    instrumentalness.append(top50_audio_features[i][0]['instrumentalness'])\n",
    "    liveness.append(top50_audio_features[i][0]['liveness'])\n",
    "    Happiness.append(top50_audio_features[i][0]['valence'])\n",
    "    tempo.append(top50_audio_features[i][0]['tempo'])\n",
    "    duration_ms.append(top50_audio_features[i][0]['duration_ms'])"
   ]
  },
  {
   "cell_type": "code",
   "execution_count": 62,
   "metadata": {},
   "outputs": [
    {
     "data": {
      "text/plain": [
       "[4.22155,\n",
       " 4.826333333333333,\n",
       " 4.250216666666667,\n",
       " 2.9349833333333333,\n",
       " 4.44195,\n",
       " 3.6790833333333333,\n",
       " 5.422,\n",
       " 5.2877833333333335,\n",
       " 2.153116666666667,\n",
       " 3.6235500000000003,\n",
       " 4.1540333333333335,\n",
       " 8.960883333333333,\n",
       " 5.734216666666667,\n",
       " 3.022883333333333,\n",
       " 3.567633333333333,\n",
       " 3.77265,\n",
       " 3.619266666666667,\n",
       " 3.9571166666666664,\n",
       " 3.5008833333333333,\n",
       " 3.4850833333333333,\n",
       " 3.85555,\n",
       " 3.8522166666666666,\n",
       " 8.902,\n",
       " 4.3711166666666665,\n",
       " 3.61755,\n",
       " 1.4253333333333333,\n",
       " 3.648083333333333,\n",
       " 3.778316666666667,\n",
       " 4.972449999999999,\n",
       " 3.683316666666667,\n",
       " 3.6489333333333334,\n",
       " 3.4810333333333334,\n",
       " 3.5328666666666666,\n",
       " 3.950216666666667,\n",
       " 3.699,\n",
       " 4.303983333333333,\n",
       " 3.7465166666666665,\n",
       " 2.2464500000000003,\n",
       " 4.546883333333333,\n",
       " 4.86555,\n",
       " 4.520266666666667,\n",
       " 3.91355,\n",
       " 4.098450000000001,\n",
       " 4.408733333333333,\n",
       " 3.478216666666667,\n",
       " 4.362,\n",
       " 2.1944500000000002,\n",
       " 2.7729166666666667,\n",
       " 3.7950166666666667,\n",
       " 3.4713333333333334]"
      ]
     },
     "execution_count": 62,
     "metadata": {},
     "output_type": "execute_result"
    }
   ],
   "source": [
    "duration_ms"
   ]
  },
  {
   "cell_type": "code",
   "execution_count": null,
   "metadata": {},
   "outputs": [],
   "source": []
  }
 ],
 "metadata": {
  "kernelspec": {
   "display_name": "Python 3",
   "language": "python",
   "name": "python3"
  },
  "language_info": {
   "codemirror_mode": {
    "name": "ipython",
    "version": 3
   },
   "file_extension": ".py",
   "mimetype": "text/x-python",
   "name": "python",
   "nbconvert_exporter": "python",
   "pygments_lexer": "ipython3",
   "version": "3.7.6"
  }
 },
 "nbformat": 4,
 "nbformat_minor": 4
}
