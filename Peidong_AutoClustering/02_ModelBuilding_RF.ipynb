{
 "cells": [
  {
   "cell_type": "code",
   "execution_count": 2,
   "metadata": {},
   "outputs": [],
   "source": [
    "import os\n",
    "import math                                                 # basic calculations like square root\n",
    "import numpy as np                                          # arrays and matrix math\n",
    "import scipy.stats as st                                    # statistical methods\n",
    "import matplotlib.pyplot as plt                             # for plotting\n",
    "import seaborn as sns\n",
    "import pandas as pd                                         # DataFrames\n",
    "import pandas.plotting as pd_plot\n",
    "from sklearn.metrics.pairwise import euclidean_distances\n",
    "from sklearn.decomposition import PCA \n",
    "from sklearn import metrics                                 # measures to check our models\n",
    "from sklearn.model_selection import train_test_split        # train and test split\n",
    "from sklearn.ensemble import RandomForestRegressor          # random forest method\n",
    "from sklearn.cluster import KMeans\n",
    "df = pd.read_csv('clustered_data.csv')"
   ]
  },
  {
   "cell_type": "code",
   "execution_count": 3,
   "metadata": {},
   "outputs": [
    {
     "data": {
      "text/html": [
       "<div>\n",
       "<style scoped>\n",
       "    .dataframe tbody tr th:only-of-type {\n",
       "        vertical-align: middle;\n",
       "    }\n",
       "\n",
       "    .dataframe tbody tr th {\n",
       "        vertical-align: top;\n",
       "    }\n",
       "\n",
       "    .dataframe thead th {\n",
       "        text-align: right;\n",
       "    }\n",
       "</style>\n",
       "<table border=\"1\" class=\"dataframe\">\n",
       "  <thead>\n",
       "    <tr style=\"text-align: right;\">\n",
       "      <th></th>\n",
       "      <th>track</th>\n",
       "      <th>artist</th>\n",
       "      <th>uri</th>\n",
       "      <th>danceability</th>\n",
       "      <th>energy</th>\n",
       "      <th>speechiness</th>\n",
       "      <th>instrumentalness</th>\n",
       "      <th>liveness</th>\n",
       "      <th>valence</th>\n",
       "      <th>tempo</th>\n",
       "      <th>chorus_hit</th>\n",
       "      <th>cluster_num</th>\n",
       "    </tr>\n",
       "  </thead>\n",
       "  <tbody>\n",
       "    <tr>\n",
       "      <th>0</th>\n",
       "      <td>Lucky Man</td>\n",
       "      <td>Montgomery Gentry</td>\n",
       "      <td>spotify:track:4GiXBCUF7H6YfNQsnBRIzl</td>\n",
       "      <td>0.578</td>\n",
       "      <td>0.471</td>\n",
       "      <td>0.0289</td>\n",
       "      <td>0.00000</td>\n",
       "      <td>0.159</td>\n",
       "      <td>0.532</td>\n",
       "      <td>133.061</td>\n",
       "      <td>30.88059</td>\n",
       "      <td>66</td>\n",
       "    </tr>\n",
       "    <tr>\n",
       "      <th>1</th>\n",
       "      <td>On The Hotline</td>\n",
       "      <td>Pretty Ricky</td>\n",
       "      <td>spotify:track:1zyqZONW985Cs4osz9wlsu</td>\n",
       "      <td>0.704</td>\n",
       "      <td>0.854</td>\n",
       "      <td>0.1830</td>\n",
       "      <td>0.00000</td>\n",
       "      <td>0.148</td>\n",
       "      <td>0.688</td>\n",
       "      <td>92.988</td>\n",
       "      <td>41.51106</td>\n",
       "      <td>522</td>\n",
       "    </tr>\n",
       "    <tr>\n",
       "      <th>2</th>\n",
       "      <td>Clouds Of Dementia</td>\n",
       "      <td>Candlemass</td>\n",
       "      <td>spotify:track:6cHZf7RbxXCKwEkgAZT4mY</td>\n",
       "      <td>0.162</td>\n",
       "      <td>0.836</td>\n",
       "      <td>0.0473</td>\n",
       "      <td>0.00457</td>\n",
       "      <td>0.174</td>\n",
       "      <td>0.300</td>\n",
       "      <td>86.964</td>\n",
       "      <td>65.32887</td>\n",
       "      <td>567</td>\n",
       "    </tr>\n",
       "    <tr>\n",
       "      <th>3</th>\n",
       "      <td>Heavy Metal, Raise Hell!</td>\n",
       "      <td>Zwartketterij</td>\n",
       "      <td>spotify:track:2IjBPp2vMeX7LggzRN3iSX</td>\n",
       "      <td>0.188</td>\n",
       "      <td>0.994</td>\n",
       "      <td>0.1660</td>\n",
       "      <td>0.07840</td>\n",
       "      <td>0.192</td>\n",
       "      <td>0.333</td>\n",
       "      <td>148.440</td>\n",
       "      <td>58.59528</td>\n",
       "      <td>456</td>\n",
       "    </tr>\n",
       "    <tr>\n",
       "      <th>4</th>\n",
       "      <td>I Got A Feelin'</td>\n",
       "      <td>Billy Currington</td>\n",
       "      <td>spotify:track:1tF370eYXUcWwkIvaq3IGz</td>\n",
       "      <td>0.630</td>\n",
       "      <td>0.764</td>\n",
       "      <td>0.0275</td>\n",
       "      <td>0.00000</td>\n",
       "      <td>0.125</td>\n",
       "      <td>0.631</td>\n",
       "      <td>112.098</td>\n",
       "      <td>22.62384</td>\n",
       "      <td>237</td>\n",
       "    </tr>\n",
       "  </tbody>\n",
       "</table>\n",
       "</div>"
      ],
      "text/plain": [
       "                      track             artist  \\\n",
       "0                 Lucky Man  Montgomery Gentry   \n",
       "1            On The Hotline       Pretty Ricky   \n",
       "2        Clouds Of Dementia         Candlemass   \n",
       "3  Heavy Metal, Raise Hell!      Zwartketterij   \n",
       "4           I Got A Feelin'   Billy Currington   \n",
       "\n",
       "                                    uri  danceability  energy  speechiness  \\\n",
       "0  spotify:track:4GiXBCUF7H6YfNQsnBRIzl         0.578   0.471       0.0289   \n",
       "1  spotify:track:1zyqZONW985Cs4osz9wlsu         0.704   0.854       0.1830   \n",
       "2  spotify:track:6cHZf7RbxXCKwEkgAZT4mY         0.162   0.836       0.0473   \n",
       "3  spotify:track:2IjBPp2vMeX7LggzRN3iSX         0.188   0.994       0.1660   \n",
       "4  spotify:track:1tF370eYXUcWwkIvaq3IGz         0.630   0.764       0.0275   \n",
       "\n",
       "   instrumentalness  liveness  valence    tempo  chorus_hit  cluster_num  \n",
       "0           0.00000     0.159    0.532  133.061    30.88059           66  \n",
       "1           0.00000     0.148    0.688   92.988    41.51106          522  \n",
       "2           0.00457     0.174    0.300   86.964    65.32887          567  \n",
       "3           0.07840     0.192    0.333  148.440    58.59528          456  \n",
       "4           0.00000     0.125    0.631  112.098    22.62384          237  "
      ]
     },
     "execution_count": 3,
     "metadata": {},
     "output_type": "execute_result"
    }
   ],
   "source": [
    "df.head()"
   ]
  },
  {
   "cell_type": "code",
   "execution_count": 4,
   "metadata": {},
   "outputs": [
    {
     "data": {
      "text/plain": [
       "(41106, 12)"
      ]
     },
     "execution_count": 4,
     "metadata": {},
     "output_type": "execute_result"
    }
   ],
   "source": [
    "df.shape"
   ]
  },
  {
   "cell_type": "code",
   "execution_count": 5,
   "metadata": {},
   "outputs": [
    {
     "data": {
      "text/html": [
       "<div>\n",
       "<style scoped>\n",
       "    .dataframe tbody tr th:only-of-type {\n",
       "        vertical-align: middle;\n",
       "    }\n",
       "\n",
       "    .dataframe tbody tr th {\n",
       "        vertical-align: top;\n",
       "    }\n",
       "\n",
       "    .dataframe thead th {\n",
       "        text-align: right;\n",
       "    }\n",
       "</style>\n",
       "<table border=\"1\" class=\"dataframe\">\n",
       "  <thead>\n",
       "    <tr style=\"text-align: right;\">\n",
       "      <th></th>\n",
       "      <th>danceability</th>\n",
       "      <th>energy</th>\n",
       "      <th>speechiness</th>\n",
       "      <th>instrumentalness</th>\n",
       "      <th>liveness</th>\n",
       "      <th>valence</th>\n",
       "      <th>tempo</th>\n",
       "      <th>chorus_hit</th>\n",
       "      <th>cluster_num</th>\n",
       "    </tr>\n",
       "  </thead>\n",
       "  <tbody>\n",
       "    <tr>\n",
       "      <th>count</th>\n",
       "      <td>41106.000000</td>\n",
       "      <td>41106.000000</td>\n",
       "      <td>41106.000000</td>\n",
       "      <td>41106.000000</td>\n",
       "      <td>41106.000000</td>\n",
       "      <td>41106.000000</td>\n",
       "      <td>41106.000000</td>\n",
       "      <td>41106.000000</td>\n",
       "      <td>41106.000000</td>\n",
       "    </tr>\n",
       "    <tr>\n",
       "      <th>mean</th>\n",
       "      <td>0.539695</td>\n",
       "      <td>0.579545</td>\n",
       "      <td>0.072960</td>\n",
       "      <td>0.154416</td>\n",
       "      <td>0.201535</td>\n",
       "      <td>0.542440</td>\n",
       "      <td>119.338249</td>\n",
       "      <td>40.106041</td>\n",
       "      <td>283.555174</td>\n",
       "    </tr>\n",
       "    <tr>\n",
       "      <th>std</th>\n",
       "      <td>0.177821</td>\n",
       "      <td>0.252628</td>\n",
       "      <td>0.086112</td>\n",
       "      <td>0.303530</td>\n",
       "      <td>0.172959</td>\n",
       "      <td>0.267329</td>\n",
       "      <td>29.098845</td>\n",
       "      <td>19.005515</td>\n",
       "      <td>167.427796</td>\n",
       "    </tr>\n",
       "    <tr>\n",
       "      <th>min</th>\n",
       "      <td>0.000000</td>\n",
       "      <td>0.000251</td>\n",
       "      <td>0.000000</td>\n",
       "      <td>0.000000</td>\n",
       "      <td>0.013000</td>\n",
       "      <td>0.000000</td>\n",
       "      <td>0.000000</td>\n",
       "      <td>0.000000</td>\n",
       "      <td>0.000000</td>\n",
       "    </tr>\n",
       "    <tr>\n",
       "      <th>25%</th>\n",
       "      <td>0.420000</td>\n",
       "      <td>0.396000</td>\n",
       "      <td>0.033700</td>\n",
       "      <td>0.000000</td>\n",
       "      <td>0.094000</td>\n",
       "      <td>0.330000</td>\n",
       "      <td>97.397000</td>\n",
       "      <td>27.599793</td>\n",
       "      <td>142.000000</td>\n",
       "    </tr>\n",
       "    <tr>\n",
       "      <th>50%</th>\n",
       "      <td>0.552000</td>\n",
       "      <td>0.601000</td>\n",
       "      <td>0.043400</td>\n",
       "      <td>0.000120</td>\n",
       "      <td>0.132000</td>\n",
       "      <td>0.558000</td>\n",
       "      <td>117.565000</td>\n",
       "      <td>35.850795</td>\n",
       "      <td>283.000000</td>\n",
       "    </tr>\n",
       "    <tr>\n",
       "      <th>75%</th>\n",
       "      <td>0.669000</td>\n",
       "      <td>0.787000</td>\n",
       "      <td>0.069800</td>\n",
       "      <td>0.061250</td>\n",
       "      <td>0.261000</td>\n",
       "      <td>0.768000</td>\n",
       "      <td>136.494000</td>\n",
       "      <td>47.625615</td>\n",
       "      <td>430.000000</td>\n",
       "    </tr>\n",
       "    <tr>\n",
       "      <th>max</th>\n",
       "      <td>0.988000</td>\n",
       "      <td>1.000000</td>\n",
       "      <td>0.960000</td>\n",
       "      <td>1.000000</td>\n",
       "      <td>0.999000</td>\n",
       "      <td>0.996000</td>\n",
       "      <td>241.423000</td>\n",
       "      <td>433.182000</td>\n",
       "      <td>579.000000</td>\n",
       "    </tr>\n",
       "  </tbody>\n",
       "</table>\n",
       "</div>"
      ],
      "text/plain": [
       "       danceability        energy   speechiness  instrumentalness  \\\n",
       "count  41106.000000  41106.000000  41106.000000      41106.000000   \n",
       "mean       0.539695      0.579545      0.072960          0.154416   \n",
       "std        0.177821      0.252628      0.086112          0.303530   \n",
       "min        0.000000      0.000251      0.000000          0.000000   \n",
       "25%        0.420000      0.396000      0.033700          0.000000   \n",
       "50%        0.552000      0.601000      0.043400          0.000120   \n",
       "75%        0.669000      0.787000      0.069800          0.061250   \n",
       "max        0.988000      1.000000      0.960000          1.000000   \n",
       "\n",
       "           liveness       valence         tempo    chorus_hit   cluster_num  \n",
       "count  41106.000000  41106.000000  41106.000000  41106.000000  41106.000000  \n",
       "mean       0.201535      0.542440    119.338249     40.106041    283.555174  \n",
       "std        0.172959      0.267329     29.098845     19.005515    167.427796  \n",
       "min        0.013000      0.000000      0.000000      0.000000      0.000000  \n",
       "25%        0.094000      0.330000     97.397000     27.599793    142.000000  \n",
       "50%        0.132000      0.558000    117.565000     35.850795    283.000000  \n",
       "75%        0.261000      0.768000    136.494000     47.625615    430.000000  \n",
       "max        0.999000      0.996000    241.423000    433.182000    579.000000  "
      ]
     },
     "execution_count": 5,
     "metadata": {},
     "output_type": "execute_result"
    }
   ],
   "source": [
    "df.describe()"
   ]
  },
  {
   "cell_type": "code",
   "execution_count": 6,
   "metadata": {},
   "outputs": [
    {
     "data": {
      "image/png": "[encoded data removed]",
      "text/plain": [
       "<Figure size 432x288 with 1 Axes>"
      ]
     },
     "metadata": {
      "needs_background": "light"
     },
     "output_type": "display_data"
    }
   ],
   "source": [
    "plt = df['cluster_num'].hist(bins=500, grid=False)\n",
    "plt.set_xlabel('# of Cluster',fontsize=12);\n",
    "plt.set_xlabel('Frequency',fontsize=12);"
   ]
  },
  {
   "cell_type": "code",
   "execution_count": 7,
   "metadata": {},
   "outputs": [],
   "source": [
    "Data_Subset = df; \n",
    "\n",
    "pred_features =['danceability','energy','speechiness','instrumentalness',\n",
    "               'liveness','valence','tempo','chorus_hit']\n",
    "response = 'cluster_num'\n",
    "\n",
    "x_train,x_test,y_train,y_test = train_test_split(Data_Subset[pred_features],Data_Subset[[response]],test_size=0.25)"
   ]
  },
  {
   "cell_type": "code",
   "execution_count": 75,
   "metadata": {},
   "outputs": [
    {
     "name": "stdout",
     "output_type": "stream",
     "text": [
      "50\n",
      "100\n",
      "150\n",
      "200\n",
      "250\n",
      "300\n",
      "350\n",
      "400\n",
      "450\n",
      "500\n",
      "550\n",
      "600\n"
     ]
    }
   ],
   "source": [
    "import warnings\n",
    "warnings.filterwarnings('ignore')\n",
    "                            \n",
    "num_trees = list(range(50, 650,50))\n",
    "\n",
    "max_features = int(round(np.sqrt(len(pred_features))))\n",
    "max_depth = 15\n",
    "fit_forests = []; oob_mse = []; oob_score = []; \n",
    "\n",
    "index = 1\n",
    "for num_tree in num_trees:                                 # loop over number of trees in our random forest\n",
    "    fit_forests.append(RandomForestRegressor(max_depth=max_depth,n_estimators=int(num_tree),max_features = max_features,n_jobs=-1))\n",
    "    fit_forests[index-1].fit(X = x_train, y = y_train)\n",
    "    oob_mse.append( metrics.mean_squared_error(y_test,fit_forests[index-1].predict(x_test)) )\n",
    "    oob_score.append( metrics.explained_variance_score(y_test,fit_forests[index-1].predict(x_test)) )\n",
    "    print(num_tree)\n",
    "    index = index + 1"
   ]
  },
  {
   "cell_type": "code",
   "execution_count": 76,
   "metadata": {},
   "outputs": [
    {
     "data": {
      "image/png": "[encoded data removed]",
      "text/plain": [
       "<Figure size 432x288 with 2 Axes>"
      ]
     },
     "metadata": {
      "needs_background": "light"
     },
     "output_type": "display_data"
    }
   ],
   "source": [
    "import matplotlib.pyplot as plt\n",
    "\n",
    "plt.subplot(121)\n",
    "plt.title('Out-Bag Bag MSE vs. Number of Trees'); \n",
    "plt.xlabel('Number of Trees')\n",
    "plt.ylabel('Out-of-Bag MSE')\n",
    "plt.plot(num_trees,oob_mse)\n",
    "\n",
    "plt.subplot(122)\n",
    "plt.title('Out-Bag Bag Score vs. Number of Trees'); \n",
    "plt.xlabel('Number of Trees')\n",
    "plt.ylabel('Out-of-Bag Variance Explained')\n",
    "plt.plot(num_trees,oob_score)\n",
    "\n",
    "plt.subplots_adjust(left=0.0, bottom=0.0, right=1.6, top=0.8, wspace=0.22, hspace=0)"
   ]
  },
  {
   "cell_type": "code",
   "execution_count": null,
   "metadata": {},
   "outputs": [],
   "source": []
  },
  {
   "cell_type": "code",
   "execution_count": 82,
   "metadata": {},
   "outputs": [
    {
     "name": "stdout",
     "output_type": "stream",
     "text": [
      "10\n",
      "20\n",
      "30\n",
      "40\n",
      "50\n",
      "60\n",
      "70\n",
      "80\n",
      "90\n",
      "100\n"
     ]
    }
   ],
   "source": [
    "import warnings\n",
    "warnings.filterwarnings('ignore')\n",
    "                            \n",
    "max_depths = list(range(10, 101,10))\n",
    "num_trees = 350\n",
    "fit_forests = []; oob_mse = []; oob_score = []; \n",
    "\n",
    "index = 1\n",
    "for max_depth in max_depths:                                  \n",
    "    fit_forests.append(RandomForestRegressor(max_depth=max_depth,n_estimators=int(num_tree),max_features = max_features,n_jobs=-1))\n",
    "    fit_forests[index-1].fit(X = x_train, y = y_train)\n",
    "    oob_mse.append( metrics.mean_squared_error(y_test,fit_forests[index-1].predict(x_test)) )\n",
    "    oob_score.append( metrics.explained_variance_score(y_test,fit_forests[index-1].predict(x_test)) )\n",
    "    index = index + 1\n",
    "    print(max_depth)\n",
    "    "
   ]
  },
  {
   "cell_type": "code",
   "execution_count": 83,
   "metadata": {},
   "outputs": [
    {
     "data": {
      "image/png": "[encoded data removed]",
      "text/plain": [
       "<Figure size 432x288 with 2 Axes>"
      ]
     },
     "metadata": {
      "needs_background": "light"
     },
     "output_type": "display_data"
    }
   ],
   "source": [
    "plt.subplot(121)\n",
    "plt.title('Out-Bag MSE vs. Maximum Depth'); \n",
    "plt.xlabel('Maximum Tree Depth')\n",
    "plt.ylabel('Testing MSE')\n",
    "plt.plot(max_depths,oob_mse)\n",
    "plt.subplot(122)\n",
    "plt.title('Out-Bag Score vs. Maximum Depth'); \n",
    "plt.xlabel('Maximum Tree Depth')\n",
    "plt.ylabel('Testing Variance Explained')\n",
    "plt.plot(max_depths,oob_score)\n",
    "\n",
    "plt.subplots_adjust(left=0.0, bottom=0.0, right=1.6, top=0.8, wspace=0.22, hspace=0)"
   ]
  },
  {
   "cell_type": "markdown",
   "metadata": {},
   "source": [
    "# depth: 25\n",
    "# trees: 350"
   ]
  },
  {
   "cell_type": "code",
   "execution_count": 84,
   "metadata": {},
   "outputs": [],
   "source": [
    "model = RandomForestRegressor(max_depth=25,n_estimators=int(350),max_features = max_features,n_jobs=-1)"
   ]
  },
  {
   "cell_type": "code",
   "execution_count": 86,
   "metadata": {},
   "outputs": [
    {
     "data": {
      "text/plain": [
       "RandomForestRegressor(bootstrap=True, criterion='mse', max_depth=25,\n",
       "                      max_features=3, max_leaf_nodes=None,\n",
       "                      min_impurity_decrease=0.0, min_impurity_split=None,\n",
       "                      min_samples_leaf=1, min_samples_split=2,\n",
       "                      min_weight_fraction_leaf=0.0, n_estimators=350, n_jobs=-1,\n",
       "                      oob_score=False, random_state=None, verbose=0,\n",
       "                      warm_start=False)"
      ]
     },
     "execution_count": 86,
     "metadata": {},
     "output_type": "execute_result"
    }
   ],
   "source": [
    "model.fit(X = x_train, y = y_train)"
   ]
  },
  {
   "cell_type": "code",
   "execution_count": 87,
   "metadata": {},
   "outputs": [
    {
     "data": {
      "text/plain": [
       "['finalized_model.sav']"
      ]
     },
     "execution_count": 87,
     "metadata": {},
     "output_type": "execute_result"
    }
   ],
   "source": [
    "import joblib\n",
    "filename = 'finalized_model.sav'\n",
    "joblib.dump(model, filename)"
   ]
  },
  {
   "cell_type": "code",
   "execution_count": 88,
   "metadata": {},
   "outputs": [
    {
     "name": "stdout",
     "output_type": "stream",
     "text": [
      "0.4751531605350399\n"
     ]
    }
   ],
   "source": [
    "loaded_model = joblib.load(filename)\n",
    "result = loaded_model.score(x_test, y_test)\n",
    "print(result)"
   ]
  },
  {
   "cell_type": "code",
   "execution_count": 8,
   "metadata": {},
   "outputs": [
    {
     "data": {
      "text/html": [
       "<div>\n",
       "<style scoped>\n",
       "    .dataframe tbody tr th:only-of-type {\n",
       "        vertical-align: middle;\n",
       "    }\n",
       "\n",
       "    .dataframe tbody tr th {\n",
       "        vertical-align: top;\n",
       "    }\n",
       "\n",
       "    .dataframe thead th {\n",
       "        text-align: right;\n",
       "    }\n",
       "</style>\n",
       "<table border=\"1\" class=\"dataframe\">\n",
       "  <thead>\n",
       "    <tr style=\"text-align: right;\">\n",
       "      <th></th>\n",
       "      <th>danceability</th>\n",
       "      <th>energy</th>\n",
       "      <th>speechiness</th>\n",
       "      <th>instrumentalness</th>\n",
       "      <th>liveness</th>\n",
       "      <th>valence</th>\n",
       "      <th>tempo</th>\n",
       "      <th>chorus_hit</th>\n",
       "    </tr>\n",
       "  </thead>\n",
       "  <tbody>\n",
       "    <tr>\n",
       "      <th>14271</th>\n",
       "      <td>0.373</td>\n",
       "      <td>0.610</td>\n",
       "      <td>0.0463</td>\n",
       "      <td>0.00000</td>\n",
       "      <td>0.8370</td>\n",
       "      <td>0.9040</td>\n",
       "      <td>153.239</td>\n",
       "      <td>56.16666</td>\n",
       "    </tr>\n",
       "    <tr>\n",
       "      <th>27360</th>\n",
       "      <td>0.475</td>\n",
       "      <td>0.310</td>\n",
       "      <td>0.0271</td>\n",
       "      <td>0.00643</td>\n",
       "      <td>0.1120</td>\n",
       "      <td>0.5900</td>\n",
       "      <td>137.559</td>\n",
       "      <td>24.37159</td>\n",
       "    </tr>\n",
       "    <tr>\n",
       "      <th>5439</th>\n",
       "      <td>0.398</td>\n",
       "      <td>0.547</td>\n",
       "      <td>0.0261</td>\n",
       "      <td>0.00143</td>\n",
       "      <td>0.1460</td>\n",
       "      <td>0.3050</td>\n",
       "      <td>73.396</td>\n",
       "      <td>26.95939</td>\n",
       "    </tr>\n",
       "    <tr>\n",
       "      <th>30949</th>\n",
       "      <td>0.315</td>\n",
       "      <td>0.798</td>\n",
       "      <td>0.0441</td>\n",
       "      <td>0.30300</td>\n",
       "      <td>0.3720</td>\n",
       "      <td>0.1600</td>\n",
       "      <td>109.753</td>\n",
       "      <td>29.93738</td>\n",
       "    </tr>\n",
       "    <tr>\n",
       "      <th>1219</th>\n",
       "      <td>0.287</td>\n",
       "      <td>0.777</td>\n",
       "      <td>0.0400</td>\n",
       "      <td>0.24600</td>\n",
       "      <td>0.1070</td>\n",
       "      <td>0.2400</td>\n",
       "      <td>120.041</td>\n",
       "      <td>34.33167</td>\n",
       "    </tr>\n",
       "    <tr>\n",
       "      <th>...</th>\n",
       "      <td>...</td>\n",
       "      <td>...</td>\n",
       "      <td>...</td>\n",
       "      <td>...</td>\n",
       "      <td>...</td>\n",
       "      <td>...</td>\n",
       "      <td>...</td>\n",
       "      <td>...</td>\n",
       "    </tr>\n",
       "    <tr>\n",
       "      <th>39899</th>\n",
       "      <td>0.804</td>\n",
       "      <td>0.731</td>\n",
       "      <td>0.2250</td>\n",
       "      <td>0.00000</td>\n",
       "      <td>0.0840</td>\n",
       "      <td>0.4510</td>\n",
       "      <td>89.139</td>\n",
       "      <td>23.04472</td>\n",
       "    </tr>\n",
       "    <tr>\n",
       "      <th>22442</th>\n",
       "      <td>0.317</td>\n",
       "      <td>0.599</td>\n",
       "      <td>0.0321</td>\n",
       "      <td>0.89700</td>\n",
       "      <td>0.1220</td>\n",
       "      <td>0.1130</td>\n",
       "      <td>124.492</td>\n",
       "      <td>37.83947</td>\n",
       "    </tr>\n",
       "    <tr>\n",
       "      <th>34760</th>\n",
       "      <td>0.657</td>\n",
       "      <td>0.187</td>\n",
       "      <td>0.0543</td>\n",
       "      <td>0.00000</td>\n",
       "      <td>0.1130</td>\n",
       "      <td>0.6220</td>\n",
       "      <td>89.389</td>\n",
       "      <td>28.30975</td>\n",
       "    </tr>\n",
       "    <tr>\n",
       "      <th>21727</th>\n",
       "      <td>0.504</td>\n",
       "      <td>0.624</td>\n",
       "      <td>0.0524</td>\n",
       "      <td>0.04550</td>\n",
       "      <td>0.0742</td>\n",
       "      <td>0.6280</td>\n",
       "      <td>117.314</td>\n",
       "      <td>18.28584</td>\n",
       "    </tr>\n",
       "    <tr>\n",
       "      <th>26521</th>\n",
       "      <td>0.375</td>\n",
       "      <td>0.336</td>\n",
       "      <td>0.0308</td>\n",
       "      <td>0.00000</td>\n",
       "      <td>0.0770</td>\n",
       "      <td>0.0759</td>\n",
       "      <td>93.988</td>\n",
       "      <td>38.92366</td>\n",
       "    </tr>\n",
       "  </tbody>\n",
       "</table>\n",
       "<p>30829 rows × 8 columns</p>\n",
       "</div>"
      ],
      "text/plain": [
       "       danceability  energy  speechiness  instrumentalness  liveness  valence  \\\n",
       "14271         0.373   0.610       0.0463           0.00000    0.8370   0.9040   \n",
       "27360         0.475   0.310       0.0271           0.00643    0.1120   0.5900   \n",
       "5439          0.398   0.547       0.0261           0.00143    0.1460   0.3050   \n",
       "30949         0.315   0.798       0.0441           0.30300    0.3720   0.1600   \n",
       "1219          0.287   0.777       0.0400           0.24600    0.1070   0.2400   \n",
       "...             ...     ...          ...               ...       ...      ...   \n",
       "39899         0.804   0.731       0.2250           0.00000    0.0840   0.4510   \n",
       "22442         0.317   0.599       0.0321           0.89700    0.1220   0.1130   \n",
       "34760         0.657   0.187       0.0543           0.00000    0.1130   0.6220   \n",
       "21727         0.504   0.624       0.0524           0.04550    0.0742   0.6280   \n",
       "26521         0.375   0.336       0.0308           0.00000    0.0770   0.0759   \n",
       "\n",
       "         tempo  chorus_hit  \n",
       "14271  153.239    56.16666  \n",
       "27360  137.559    24.37159  \n",
       "5439    73.396    26.95939  \n",
       "30949  109.753    29.93738  \n",
       "1219   120.041    34.33167  \n",
       "...        ...         ...  \n",
       "39899   89.139    23.04472  \n",
       "22442  124.492    37.83947  \n",
       "34760   89.389    28.30975  \n",
       "21727  117.314    18.28584  \n",
       "26521   93.988    38.92366  \n",
       "\n",
       "[30829 rows x 8 columns]"
      ]
     },
     "execution_count": 8,
     "metadata": {},
     "output_type": "execute_result"
    }
   ],
   "source": [
    "x_train"
   ]
  },
  {
   "cell_type": "code",
   "execution_count": null,
   "metadata": {},
   "outputs": [],
   "source": []
  }
 ],
 "metadata": {
  "kernelspec": {
   "display_name": "Python 3",
   "language": "python",
   "name": "python3"
  },
  "language_info": {
   "codemirror_mode": {
    "name": "ipython",
    "version": 3
   },
   "file_extension": ".py",
   "mimetype": "text/x-python",
   "name": "python",
   "nbconvert_exporter": "python",
   "pygments_lexer": "ipython3",
   "version": "3.7.0"
  }
 },
 "nbformat": 4,
 "nbformat_minor": 2
}
