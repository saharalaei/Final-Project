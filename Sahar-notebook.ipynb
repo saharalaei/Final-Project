{
 "cells": [
  {
   "cell_type": "code",
   "execution_count": 38,
   "metadata": {},
   "outputs": [],
   "source": [
    "# import needed libraries\n",
    "\n",
    "import pandas as pd \n",
    "import json\n",
    "import matplotlib.pyplot as plt"
   ]
  },
  {
   "cell_type": "code",
   "execution_count": 63,
   "metadata": {},
   "outputs": [],
   "source": [
    "# Extracting data\n",
    "\n",
    "user_url = 'henry_data.json'\n",
    "\n",
    "with open(user_url) as json_data:\n",
    "    data = json.load(json_data)\n",
    "\n",
    "total_user_genres = data[\"genres\"]\n",
    "user_name = data[\"name\"]\n",
    "user_uodate_date = data[\"date_updated\"]\n",
    "top50_user_artists_info = data[\"top_50_artists\"]\n",
    "top50_user_tracks_info = data[\"top_50_tracks\"]\n",
    "\n",
    "top50_artist = []\n",
    "top50_genre = []\n",
    "top50_popularity = []\n",
    "\n",
    "for i in range(len(top50_user_artists_info)):\n",
    "    top50_artist.append(top50_user_artists_info[i]['artist'])\n",
    "    top50_genre.append(top50_user_artists_info[i]['genres'])\n",
    "    top50_popularity.append(top50_user_artists_info[i]['popularity'])\n",
    "    \n",
    "top50_track = []\n",
    "top50_album = []\n",
    "top50_audio_features = []\n",
    "\n",
    "for i in range(len(top50_user_tracks_info)):\n",
    "    top50_track.append(top50_user_tracks_info[i]['track'])\n",
    "    top50_album.append(top50_user_tracks_info[i]['album'])\n",
    "    top50_audio_features.append(top50_user_tracks_info[i]['audio_features'])\n",
    "    \n",
    "\n",
    "danceability = []\n",
    "energy  = []\n",
    "loudness = []\n",
    "mode = []\n",
    "speechiness = []\n",
    "acousticness = []\n",
    "instrumentalness = []\n",
    "liveness = []\n",
    "Happiness = []\n",
    "tempo = []\n",
    "duration_ms = []\n",
    "\n",
    "for i in range(len(top50_audio_features)):\n",
    "    danceability.append(top50_audio_features[i][0]['danceability'])\n",
    "    energy.append(top50_audio_features[i][0]['energy'])\n",
    "    loudness.append(top50_audio_features[i][0]['loudness'])\n",
    "    mode.append(top50_audio_features[i][0]['mode'])\n",
    "    speechiness.append(top50_audio_features[i][0]['speechiness'])\n",
    "    acousticness.append(top50_audio_features[i][0]['acousticness'])\n",
    "    instrumentalness.append(top50_audio_features[i][0]['instrumentalness'])\n",
    "    liveness.append(top50_audio_features[i][0]['liveness'])\n",
    "    Happiness.append(top50_audio_features[i][0]['valence'])\n",
    "    tempo.append(top50_audio_features[i][0]['tempo'])\n",
    "    duration_ms.append(top50_audio_features[i][0]['duration_ms'])"
   ]
  },
  {
   "cell_type": "code",
   "execution_count": 65,
   "metadata": {},
   "outputs": [
    {
     "data": {
      "text/plain": [
       "['IU',\n",
       " 'RADWIMPS',\n",
       " 'TWICE',\n",
       " 'EGOIST',\n",
       " 'GFRIEND',\n",
       " 'All Time Low',\n",
       " 'The Japanese House',\n",
       " 'daigoro789',\n",
       " 'Twenty One Pilots',\n",
       " 'Grimes',\n",
       " 'The Naked And Famous',\n",
       " 'CHVRCHES',\n",
       " 'Yerin Baek',\n",
       " 'LiSA',\n",
       " 'MUNA',\n",
       " 'Bright Eyes',\n",
       " 'Manchester Orchestra',\n",
       " 'Chairlift',\n",
       " 'Taking Back Sunday',\n",
       " 'Kero Kero Bonito',\n",
       " 'Metric',\n",
       " 'Mr Twin Sister',\n",
       " 'Relient K',\n",
       " 'Purity Ring',\n",
       " 'Mayday Parade',\n",
       " 'Kanye West',\n",
       " 'The Used',\n",
       " 'Blood Orange',\n",
       " 'Wolf Alice',\n",
       " 'BOL4',\n",
       " 'Something Corporate',\n",
       " 'SURAN',\n",
       " 'Phantogram',\n",
       " '藤澤慶昌',\n",
       " 'Bon Iver',\n",
       " 'Tegan and Sara',\n",
       " 'Broods',\n",
       " 'The xx',\n",
       " 'Kishi Bashi',\n",
       " 'BANKS',\n",
       " 'Kensuke Ushio',\n",
       " 'Bastille',\n",
       " 'Fickle Friends',\n",
       " 'Sylvan Esso',\n",
       " 'SILENT SIREN',\n",
       " 'Wet',\n",
       " 'HAIM',\n",
       " 'London Grammar',\n",
       " 'St. Lucia',\n",
       " 'Paramore']"
      ]
     },
     "execution_count": 65,
     "metadata": {},
     "output_type": "execute_result"
    }
   ],
   "source": [
    "top50_artist"
   ]
  },
  {
   "cell_type": "code",
   "execution_count": null,
   "metadata": {},
   "outputs": [],
   "source": []
  }
 ],
 "metadata": {
  "kernelspec": {
   "display_name": "Python 3",
   "language": "python",
   "name": "python3"
  },
  "language_info": {
   "codemirror_mode": {
    "name": "ipython",
    "version": 3
   },
   "file_extension": ".py",
   "mimetype": "text/x-python",
   "name": "python",
   "nbconvert_exporter": "python",
   "pygments_lexer": "ipython3",
   "version": "3.7.6"
  }
 },
 "nbformat": 4,
 "nbformat_minor": 4
}
