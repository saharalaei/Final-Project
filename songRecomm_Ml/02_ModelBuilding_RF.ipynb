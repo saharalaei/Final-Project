{
 "cells": [
  {
   "cell_type": "code",
   "execution_count": 1,
   "metadata": {},
   "outputs": [],
   "source": [
    "import os\n",
    "import math                                                 # basic calculations like square root\n",
    "import numpy as np                                          # arrays and matrix math\n",
    "import scipy.stats as st                                    # statistical methods\n",
    "import matplotlib.pyplot as plt                             # for plotting\n",
    "import seaborn as sns\n",
    "import pandas as pd                                         # DataFrames\n",
    "import pandas.plotting as pd_plot\n",
    "from sklearn.metrics.pairwise import euclidean_distances\n",
    "from sklearn.decomposition import PCA \n",
    "from sklearn import metrics                                 # measures to check our models\n",
    "from sklearn.model_selection import train_test_split        # train and test split\n",
    "from sklearn.ensemble import RandomForestRegressor          # random forest method\n",
    "from sklearn.cluster import KMeans\n",
    "df = pd.read_csv('clustered_data.csv')"
   ]
  },
  {
   "cell_type": "code",
   "execution_count": 2,
   "metadata": {},
   "outputs": [
    {
     "data": {
      "text/html": [
       "<div>\n",
       "<style scoped>\n",
       "    .dataframe tbody tr th:only-of-type {\n",
       "        vertical-align: middle;\n",
       "    }\n",
       "\n",
       "    .dataframe tbody tr th {\n",
       "        vertical-align: top;\n",
       "    }\n",
       "\n",
       "    .dataframe thead th {\n",
       "        text-align: right;\n",
       "    }\n",
       "</style>\n",
       "<table border=\"1\" class=\"dataframe\">\n",
       "  <thead>\n",
       "    <tr style=\"text-align: right;\">\n",
       "      <th></th>\n",
       "      <th>track</th>\n",
       "      <th>artist</th>\n",
       "      <th>uri</th>\n",
       "      <th>danceability</th>\n",
       "      <th>energy</th>\n",
       "      <th>speechiness</th>\n",
       "      <th>instrumentalness</th>\n",
       "      <th>liveness</th>\n",
       "      <th>valence</th>\n",
       "      <th>tempo</th>\n",
       "      <th>cluster_num</th>\n",
       "    </tr>\n",
       "  </thead>\n",
       "  <tbody>\n",
       "    <tr>\n",
       "      <td>0</td>\n",
       "      <td>Lucky Man</td>\n",
       "      <td>Montgomery Gentry</td>\n",
       "      <td>spotify:track:4GiXBCUF7H6YfNQsnBRIzl</td>\n",
       "      <td>0.578</td>\n",
       "      <td>0.471</td>\n",
       "      <td>0.0289</td>\n",
       "      <td>0.00000</td>\n",
       "      <td>0.159</td>\n",
       "      <td>0.532</td>\n",
       "      <td>133.061</td>\n",
       "      <td>308</td>\n",
       "    </tr>\n",
       "    <tr>\n",
       "      <td>1</td>\n",
       "      <td>On The Hotline</td>\n",
       "      <td>Pretty Ricky</td>\n",
       "      <td>spotify:track:1zyqZONW985Cs4osz9wlsu</td>\n",
       "      <td>0.704</td>\n",
       "      <td>0.854</td>\n",
       "      <td>0.1830</td>\n",
       "      <td>0.00000</td>\n",
       "      <td>0.148</td>\n",
       "      <td>0.688</td>\n",
       "      <td>92.988</td>\n",
       "      <td>490</td>\n",
       "    </tr>\n",
       "    <tr>\n",
       "      <td>2</td>\n",
       "      <td>Clouds Of Dementia</td>\n",
       "      <td>Candlemass</td>\n",
       "      <td>spotify:track:6cHZf7RbxXCKwEkgAZT4mY</td>\n",
       "      <td>0.162</td>\n",
       "      <td>0.836</td>\n",
       "      <td>0.0473</td>\n",
       "      <td>0.00457</td>\n",
       "      <td>0.174</td>\n",
       "      <td>0.300</td>\n",
       "      <td>86.964</td>\n",
       "      <td>229</td>\n",
       "    </tr>\n",
       "    <tr>\n",
       "      <td>3</td>\n",
       "      <td>Heavy Metal, Raise Hell!</td>\n",
       "      <td>Zwartketterij</td>\n",
       "      <td>spotify:track:2IjBPp2vMeX7LggzRN3iSX</td>\n",
       "      <td>0.188</td>\n",
       "      <td>0.994</td>\n",
       "      <td>0.1660</td>\n",
       "      <td>0.07840</td>\n",
       "      <td>0.192</td>\n",
       "      <td>0.333</td>\n",
       "      <td>148.440</td>\n",
       "      <td>311</td>\n",
       "    </tr>\n",
       "    <tr>\n",
       "      <td>4</td>\n",
       "      <td>I Got A Feelin'</td>\n",
       "      <td>Billy Currington</td>\n",
       "      <td>spotify:track:1tF370eYXUcWwkIvaq3IGz</td>\n",
       "      <td>0.630</td>\n",
       "      <td>0.764</td>\n",
       "      <td>0.0275</td>\n",
       "      <td>0.00000</td>\n",
       "      <td>0.125</td>\n",
       "      <td>0.631</td>\n",
       "      <td>112.098</td>\n",
       "      <td>434</td>\n",
       "    </tr>\n",
       "  </tbody>\n",
       "</table>\n",
       "</div>"
      ],
      "text/plain": [
       "                      track             artist  \\\n",
       "0                 Lucky Man  Montgomery Gentry   \n",
       "1            On The Hotline       Pretty Ricky   \n",
       "2        Clouds Of Dementia         Candlemass   \n",
       "3  Heavy Metal, Raise Hell!      Zwartketterij   \n",
       "4           I Got A Feelin'   Billy Currington   \n",
       "\n",
       "                                    uri  danceability  energy  speechiness  \\\n",
       "0  spotify:track:4GiXBCUF7H6YfNQsnBRIzl         0.578   0.471       0.0289   \n",
       "1  spotify:track:1zyqZONW985Cs4osz9wlsu         0.704   0.854       0.1830   \n",
       "2  spotify:track:6cHZf7RbxXCKwEkgAZT4mY         0.162   0.836       0.0473   \n",
       "3  spotify:track:2IjBPp2vMeX7LggzRN3iSX         0.188   0.994       0.1660   \n",
       "4  spotify:track:1tF370eYXUcWwkIvaq3IGz         0.630   0.764       0.0275   \n",
       "\n",
       "   instrumentalness  liveness  valence    tempo  cluster_num  \n",
       "0           0.00000     0.159    0.532  133.061          308  \n",
       "1           0.00000     0.148    0.688   92.988          490  \n",
       "2           0.00457     0.174    0.300   86.964          229  \n",
       "3           0.07840     0.192    0.333  148.440          311  \n",
       "4           0.00000     0.125    0.631  112.098          434  "
      ]
     },
     "execution_count": 2,
     "metadata": {},
     "output_type": "execute_result"
    }
   ],
   "source": [
    "df.head()"
   ]
  },
  {
   "cell_type": "code",
   "execution_count": 3,
   "metadata": {},
   "outputs": [
    {
     "data": {
      "text/plain": [
       "(41106, 11)"
      ]
     },
     "execution_count": 3,
     "metadata": {},
     "output_type": "execute_result"
    }
   ],
   "source": [
    "df.shape"
   ]
  },
  {
   "cell_type": "code",
   "execution_count": 4,
   "metadata": {},
   "outputs": [
    {
     "data": {
      "text/html": [
       "<div>\n",
       "<style scoped>\n",
       "    .dataframe tbody tr th:only-of-type {\n",
       "        vertical-align: middle;\n",
       "    }\n",
       "\n",
       "    .dataframe tbody tr th {\n",
       "        vertical-align: top;\n",
       "    }\n",
       "\n",
       "    .dataframe thead th {\n",
       "        text-align: right;\n",
       "    }\n",
       "</style>\n",
       "<table border=\"1\" class=\"dataframe\">\n",
       "  <thead>\n",
       "    <tr style=\"text-align: right;\">\n",
       "      <th></th>\n",
       "      <th>danceability</th>\n",
       "      <th>energy</th>\n",
       "      <th>speechiness</th>\n",
       "      <th>instrumentalness</th>\n",
       "      <th>liveness</th>\n",
       "      <th>valence</th>\n",
       "      <th>tempo</th>\n",
       "      <th>cluster_num</th>\n",
       "    </tr>\n",
       "  </thead>\n",
       "  <tbody>\n",
       "    <tr>\n",
       "      <td>count</td>\n",
       "      <td>41106.000000</td>\n",
       "      <td>41106.000000</td>\n",
       "      <td>41106.000000</td>\n",
       "      <td>41106.000000</td>\n",
       "      <td>41106.000000</td>\n",
       "      <td>41106.000000</td>\n",
       "      <td>41106.000000</td>\n",
       "      <td>41106.000000</td>\n",
       "    </tr>\n",
       "    <tr>\n",
       "      <td>mean</td>\n",
       "      <td>0.539695</td>\n",
       "      <td>0.579545</td>\n",
       "      <td>0.072960</td>\n",
       "      <td>0.154416</td>\n",
       "      <td>0.201535</td>\n",
       "      <td>0.542440</td>\n",
       "      <td>119.338249</td>\n",
       "      <td>287.384080</td>\n",
       "    </tr>\n",
       "    <tr>\n",
       "      <td>std</td>\n",
       "      <td>0.177821</td>\n",
       "      <td>0.252628</td>\n",
       "      <td>0.086112</td>\n",
       "      <td>0.303530</td>\n",
       "      <td>0.172959</td>\n",
       "      <td>0.267329</td>\n",
       "      <td>29.098845</td>\n",
       "      <td>166.206742</td>\n",
       "    </tr>\n",
       "    <tr>\n",
       "      <td>min</td>\n",
       "      <td>0.000000</td>\n",
       "      <td>0.000251</td>\n",
       "      <td>0.000000</td>\n",
       "      <td>0.000000</td>\n",
       "      <td>0.013000</td>\n",
       "      <td>0.000000</td>\n",
       "      <td>0.000000</td>\n",
       "      <td>0.000000</td>\n",
       "    </tr>\n",
       "    <tr>\n",
       "      <td>25%</td>\n",
       "      <td>0.420000</td>\n",
       "      <td>0.396000</td>\n",
       "      <td>0.033700</td>\n",
       "      <td>0.000000</td>\n",
       "      <td>0.094000</td>\n",
       "      <td>0.330000</td>\n",
       "      <td>97.397000</td>\n",
       "      <td>142.000000</td>\n",
       "    </tr>\n",
       "    <tr>\n",
       "      <td>50%</td>\n",
       "      <td>0.552000</td>\n",
       "      <td>0.601000</td>\n",
       "      <td>0.043400</td>\n",
       "      <td>0.000120</td>\n",
       "      <td>0.132000</td>\n",
       "      <td>0.558000</td>\n",
       "      <td>117.565000</td>\n",
       "      <td>288.000000</td>\n",
       "    </tr>\n",
       "    <tr>\n",
       "      <td>75%</td>\n",
       "      <td>0.669000</td>\n",
       "      <td>0.787000</td>\n",
       "      <td>0.069800</td>\n",
       "      <td>0.061250</td>\n",
       "      <td>0.261000</td>\n",
       "      <td>0.768000</td>\n",
       "      <td>136.494000</td>\n",
       "      <td>433.000000</td>\n",
       "    </tr>\n",
       "    <tr>\n",
       "      <td>max</td>\n",
       "      <td>0.988000</td>\n",
       "      <td>1.000000</td>\n",
       "      <td>0.960000</td>\n",
       "      <td>1.000000</td>\n",
       "      <td>0.999000</td>\n",
       "      <td>0.996000</td>\n",
       "      <td>241.423000</td>\n",
       "      <td>579.000000</td>\n",
       "    </tr>\n",
       "  </tbody>\n",
       "</table>\n",
       "</div>"
      ],
      "text/plain": [
       "       danceability        energy   speechiness  instrumentalness  \\\n",
       "count  41106.000000  41106.000000  41106.000000      41106.000000   \n",
       "mean       0.539695      0.579545      0.072960          0.154416   \n",
       "std        0.177821      0.252628      0.086112          0.303530   \n",
       "min        0.000000      0.000251      0.000000          0.000000   \n",
       "25%        0.420000      0.396000      0.033700          0.000000   \n",
       "50%        0.552000      0.601000      0.043400          0.000120   \n",
       "75%        0.669000      0.787000      0.069800          0.061250   \n",
       "max        0.988000      1.000000      0.960000          1.000000   \n",
       "\n",
       "           liveness       valence         tempo   cluster_num  \n",
       "count  41106.000000  41106.000000  41106.000000  41106.000000  \n",
       "mean       0.201535      0.542440    119.338249    287.384080  \n",
       "std        0.172959      0.267329     29.098845    166.206742  \n",
       "min        0.013000      0.000000      0.000000      0.000000  \n",
       "25%        0.094000      0.330000     97.397000    142.000000  \n",
       "50%        0.132000      0.558000    117.565000    288.000000  \n",
       "75%        0.261000      0.768000    136.494000    433.000000  \n",
       "max        0.999000      0.996000    241.423000    579.000000  "
      ]
     },
     "execution_count": 4,
     "metadata": {},
     "output_type": "execute_result"
    }
   ],
   "source": [
    "df.describe()"
   ]
  },
  {
   "cell_type": "code",
   "execution_count": 5,
   "metadata": {},
   "outputs": [
    {
     "data": {
      "image/png": "[encoded data removed]",
      "text/plain": [
       "<Figure size 432x288 with 1 Axes>"
      ]
     },
     "metadata": {
      "needs_background": "light"
     },
     "output_type": "display_data"
    }
   ],
   "source": [
    "plt = df['cluster_num'].hist(bins=500, grid=False)\n",
    "plt.set_xlabel('# of Cluster',fontsize=12);\n",
    "plt.set_xlabel('Frequency',fontsize=12);"
   ]
  },
  {
   "cell_type": "code",
   "execution_count": 6,
   "metadata": {},
   "outputs": [],
   "source": [
    "Data_Subset = df; \n",
    "\n",
    "pred_features =['danceability','energy','speechiness','instrumentalness',\n",
    "               'liveness','valence','tempo']\n",
    "response = 'cluster_num'\n",
    "\n",
    "x_train,x_test,y_train,y_test = train_test_split(Data_Subset[pred_features],Data_Subset[[response]],test_size=0.25)"
   ]
  },
  {
   "cell_type": "code",
   "execution_count": 7,
   "metadata": {},
   "outputs": [
    {
     "name": "stdout",
     "output_type": "stream",
     "text": [
      "50\n",
      "100\n",
      "150\n",
      "200\n",
      "250\n",
      "300\n",
      "350\n",
      "400\n",
      "450\n",
      "500\n",
      "550\n",
      "600\n"
     ]
    }
   ],
   "source": [
    "import warnings\n",
    "warnings.filterwarnings('ignore')\n",
    "                            \n",
    "num_trees = list(range(50, 650,50))\n",
    "\n",
    "max_features = int(round(np.sqrt(len(pred_features))))\n",
    "max_depth = 15\n",
    "fit_forests = []; oob_mse = []; oob_score = []; \n",
    "\n",
    "index = 1\n",
    "for num_tree in num_trees:                                 # loop over number of trees in our random forest\n",
    "    fit_forests.append(RandomForestRegressor(max_depth=max_depth,n_estimators=int(num_tree),max_features = max_features,n_jobs=-1))\n",
    "    fit_forests[index-1].fit(X = x_train, y = y_train)\n",
    "    oob_mse.append( metrics.mean_squared_error(y_test,fit_forests[index-1].predict(x_test)) )\n",
    "    oob_score.append( metrics.explained_variance_score(y_test,fit_forests[index-1].predict(x_test)) )\n",
    "    print(num_tree)\n",
    "    index = index + 1"
   ]
  },
  {
   "cell_type": "code",
   "execution_count": 8,
   "metadata": {},
   "outputs": [
    {
     "data": {
      "image/png": "[encoded data removed]",
      "text/plain": [
       "<Figure size 432x288 with 2 Axes>"
      ]
     },
     "metadata": {
      "needs_background": "light"
     },
     "output_type": "display_data"
    }
   ],
   "source": [
    "import matplotlib.pyplot as plt\n",
    "\n",
    "plt.subplot(121)\n",
    "plt.title('Out-Bag Bag MSE vs. Number of Trees'); \n",
    "plt.xlabel('Number of Trees')\n",
    "plt.ylabel('Out-of-Bag MSE')\n",
    "plt.plot(num_trees,oob_mse)\n",
    "\n",
    "plt.subplot(122)\n",
    "plt.title('Out-Bag Bag Score vs. Number of Trees'); \n",
    "plt.xlabel('Number of Trees')\n",
    "plt.ylabel('Out-of-Bag Variance Explained')\n",
    "plt.plot(num_trees,oob_score)\n",
    "\n",
    "plt.subplots_adjust(left=0.0, bottom=0.0, right=1.6, top=0.8, wspace=0.22, hspace=0)"
   ]
  },
  {
   "cell_type": "code",
   "execution_count": null,
   "metadata": {},
   "outputs": [],
   "source": []
  },
  {
   "cell_type": "code",
   "execution_count": 9,
   "metadata": {},
   "outputs": [
    {
     "name": "stdout",
     "output_type": "stream",
     "text": [
      "10\n",
      "20\n",
      "30\n",
      "40\n",
      "50\n",
      "60\n",
      "70\n",
      "80\n",
      "90\n",
      "100\n"
     ]
    }
   ],
   "source": [
    "import warnings\n",
    "warnings.filterwarnings('ignore')\n",
    "                            \n",
    "max_depths = list(range(10, 101,10))\n",
    "num_trees = 350\n",
    "fit_forests = []; oob_mse = []; oob_score = []; \n",
    "\n",
    "index = 1\n",
    "for max_depth in max_depths:                                  \n",
    "    fit_forests.append(RandomForestRegressor(max_depth=max_depth,n_estimators=int(num_tree),max_features = max_features,n_jobs=-1))\n",
    "    fit_forests[index-1].fit(X = x_train, y = y_train)\n",
    "    oob_mse.append( metrics.mean_squared_error(y_test,fit_forests[index-1].predict(x_test)) )\n",
    "    oob_score.append( metrics.explained_variance_score(y_test,fit_forests[index-1].predict(x_test)) )\n",
    "    index = index + 1\n",
    "    print(max_depth)\n",
    "    "
   ]
  },
  {
   "cell_type": "code",
   "execution_count": 10,
   "metadata": {},
   "outputs": [
    {
     "data": {
      "image/png": "[encoded data removed]",
      "text/plain": [
       "<Figure size 432x288 with 2 Axes>"
      ]
     },
     "metadata": {
      "needs_background": "light"
     },
     "output_type": "display_data"
    }
   ],
   "source": [
    "plt.subplot(121)\n",
    "plt.title('Out-Bag MSE vs. Maximum Depth'); \n",
    "plt.xlabel('Maximum Tree Depth')\n",
    "plt.ylabel('Testing MSE')\n",
    "plt.plot(max_depths,oob_mse)\n",
    "plt.subplot(122)\n",
    "plt.title('Out-Bag Score vs. Maximum Depth'); \n",
    "plt.xlabel('Maximum Tree Depth')\n",
    "plt.ylabel('Testing Variance Explained')\n",
    "plt.plot(max_depths,oob_score)\n",
    "\n",
    "plt.subplots_adjust(left=0.0, bottom=0.0, right=1.6, top=0.8, wspace=0.22, hspace=0)"
   ]
  },
  {
   "cell_type": "markdown",
   "metadata": {},
   "source": [
    "# depth: 25\n",
    "# trees: 350"
   ]
  },
  {
   "cell_type": "code",
   "execution_count": 11,
   "metadata": {},
   "outputs": [],
   "source": [
    "model = RandomForestRegressor(max_depth=25,n_estimators=int(350),max_features = max_features,n_jobs=-1)"
   ]
  },
  {
   "cell_type": "code",
   "execution_count": 12,
   "metadata": {},
   "outputs": [
    {
     "data": {
      "text/plain": [
       "RandomForestRegressor(bootstrap=True, criterion='mse', max_depth=25,\n",
       "                      max_features=3, max_leaf_nodes=None,\n",
       "                      min_impurity_decrease=0.0, min_impurity_split=None,\n",
       "                      min_samples_leaf=1, min_samples_split=2,\n",
       "                      min_weight_fraction_leaf=0.0, n_estimators=350, n_jobs=-1,\n",
       "                      oob_score=False, random_state=None, verbose=0,\n",
       "                      warm_start=False)"
      ]
     },
     "execution_count": 12,
     "metadata": {},
     "output_type": "execute_result"
    }
   ],
   "source": [
    "model.fit(X = x_train, y = y_train)"
   ]
  },
  {
   "cell_type": "code",
   "execution_count": 13,
   "metadata": {},
   "outputs": [
    {
     "data": {
      "text/plain": [
       "['finalized_model.sav']"
      ]
     },
     "execution_count": 13,
     "metadata": {},
     "output_type": "execute_result"
    }
   ],
   "source": [
    "import joblib\n",
    "filename = 'finalized_model.sav'\n",
    "joblib.dump(model, filename)"
   ]
  },
  {
   "cell_type": "code",
   "execution_count": 14,
   "metadata": {},
   "outputs": [
    {
     "name": "stdout",
     "output_type": "stream",
     "text": [
      "0.4565346217781908\n"
     ]
    }
   ],
   "source": [
    "loaded_model = joblib.load(filename)\n",
    "result = loaded_model.score(x_test, y_test)\n",
    "print(result)"
   ]
  },
  {
   "cell_type": "code",
   "execution_count": 15,
   "metadata": {},
   "outputs": [
    {
     "data": {
      "text/html": [
       "<div>\n",
       "<style scoped>\n",
       "    .dataframe tbody tr th:only-of-type {\n",
       "        vertical-align: middle;\n",
       "    }\n",
       "\n",
       "    .dataframe tbody tr th {\n",
       "        vertical-align: top;\n",
       "    }\n",
       "\n",
       "    .dataframe thead th {\n",
       "        text-align: right;\n",
       "    }\n",
       "</style>\n",
       "<table border=\"1\" class=\"dataframe\">\n",
       "  <thead>\n",
       "    <tr style=\"text-align: right;\">\n",
       "      <th></th>\n",
       "      <th>danceability</th>\n",
       "      <th>energy</th>\n",
       "      <th>speechiness</th>\n",
       "      <th>instrumentalness</th>\n",
       "      <th>liveness</th>\n",
       "      <th>valence</th>\n",
       "      <th>tempo</th>\n",
       "    </tr>\n",
       "  </thead>\n",
       "  <tbody>\n",
       "    <tr>\n",
       "      <td>10759</td>\n",
       "      <td>0.592</td>\n",
       "      <td>0.9260</td>\n",
       "      <td>0.1260</td>\n",
       "      <td>0.000000</td>\n",
       "      <td>0.1870</td>\n",
       "      <td>0.4320</td>\n",
       "      <td>99.018</td>\n",
       "    </tr>\n",
       "    <tr>\n",
       "      <td>37136</td>\n",
       "      <td>0.544</td>\n",
       "      <td>0.0417</td>\n",
       "      <td>0.0496</td>\n",
       "      <td>0.000140</td>\n",
       "      <td>0.1190</td>\n",
       "      <td>0.1930</td>\n",
       "      <td>83.045</td>\n",
       "    </tr>\n",
       "    <tr>\n",
       "      <td>37364</td>\n",
       "      <td>0.728</td>\n",
       "      <td>0.4480</td>\n",
       "      <td>0.1720</td>\n",
       "      <td>0.000000</td>\n",
       "      <td>0.2670</td>\n",
       "      <td>0.4830</td>\n",
       "      <td>80.902</td>\n",
       "    </tr>\n",
       "    <tr>\n",
       "      <td>25672</td>\n",
       "      <td>0.472</td>\n",
       "      <td>0.0322</td>\n",
       "      <td>0.0378</td>\n",
       "      <td>0.002880</td>\n",
       "      <td>0.1110</td>\n",
       "      <td>0.1380</td>\n",
       "      <td>90.205</td>\n",
       "    </tr>\n",
       "    <tr>\n",
       "      <td>19669</td>\n",
       "      <td>0.441</td>\n",
       "      <td>0.8420</td>\n",
       "      <td>0.1340</td>\n",
       "      <td>0.631000</td>\n",
       "      <td>0.2970</td>\n",
       "      <td>0.5220</td>\n",
       "      <td>151.882</td>\n",
       "    </tr>\n",
       "    <tr>\n",
       "      <td>...</td>\n",
       "      <td>...</td>\n",
       "      <td>...</td>\n",
       "      <td>...</td>\n",
       "      <td>...</td>\n",
       "      <td>...</td>\n",
       "      <td>...</td>\n",
       "      <td>...</td>\n",
       "    </tr>\n",
       "    <tr>\n",
       "      <td>29253</td>\n",
       "      <td>0.599</td>\n",
       "      <td>0.4820</td>\n",
       "      <td>0.0345</td>\n",
       "      <td>0.000001</td>\n",
       "      <td>0.4260</td>\n",
       "      <td>0.6540</td>\n",
       "      <td>118.356</td>\n",
       "    </tr>\n",
       "    <tr>\n",
       "      <td>24553</td>\n",
       "      <td>0.373</td>\n",
       "      <td>0.7760</td>\n",
       "      <td>0.1150</td>\n",
       "      <td>0.003070</td>\n",
       "      <td>0.3070</td>\n",
       "      <td>0.9110</td>\n",
       "      <td>115.931</td>\n",
       "    </tr>\n",
       "    <tr>\n",
       "      <td>31501</td>\n",
       "      <td>0.536</td>\n",
       "      <td>0.6060</td>\n",
       "      <td>0.0355</td>\n",
       "      <td>0.000011</td>\n",
       "      <td>0.2550</td>\n",
       "      <td>0.7190</td>\n",
       "      <td>146.425</td>\n",
       "    </tr>\n",
       "    <tr>\n",
       "      <td>14115</td>\n",
       "      <td>0.148</td>\n",
       "      <td>0.3170</td>\n",
       "      <td>0.0319</td>\n",
       "      <td>0.934000</td>\n",
       "      <td>0.1300</td>\n",
       "      <td>0.0616</td>\n",
       "      <td>167.543</td>\n",
       "    </tr>\n",
       "    <tr>\n",
       "      <td>22221</td>\n",
       "      <td>0.715</td>\n",
       "      <td>0.9050</td>\n",
       "      <td>0.0358</td>\n",
       "      <td>0.670000</td>\n",
       "      <td>0.0723</td>\n",
       "      <td>0.9690</td>\n",
       "      <td>119.944</td>\n",
       "    </tr>\n",
       "  </tbody>\n",
       "</table>\n",
       "<p>30829 rows × 7 columns</p>\n",
       "</div>"
      ],
      "text/plain": [
       "       danceability  energy  speechiness  instrumentalness  liveness  valence  \\\n",
       "10759         0.592  0.9260       0.1260          0.000000    0.1870   0.4320   \n",
       "37136         0.544  0.0417       0.0496          0.000140    0.1190   0.1930   \n",
       "37364         0.728  0.4480       0.1720          0.000000    0.2670   0.4830   \n",
       "25672         0.472  0.0322       0.0378          0.002880    0.1110   0.1380   \n",
       "19669         0.441  0.8420       0.1340          0.631000    0.2970   0.5220   \n",
       "...             ...     ...          ...               ...       ...      ...   \n",
       "29253         0.599  0.4820       0.0345          0.000001    0.4260   0.6540   \n",
       "24553         0.373  0.7760       0.1150          0.003070    0.3070   0.9110   \n",
       "31501         0.536  0.6060       0.0355          0.000011    0.2550   0.7190   \n",
       "14115         0.148  0.3170       0.0319          0.934000    0.1300   0.0616   \n",
       "22221         0.715  0.9050       0.0358          0.670000    0.0723   0.9690   \n",
       "\n",
       "         tempo  \n",
       "10759   99.018  \n",
       "37136   83.045  \n",
       "37364   80.902  \n",
       "25672   90.205  \n",
       "19669  151.882  \n",
       "...        ...  \n",
       "29253  118.356  \n",
       "24553  115.931  \n",
       "31501  146.425  \n",
       "14115  167.543  \n",
       "22221  119.944  \n",
       "\n",
       "[30829 rows x 7 columns]"
      ]
     },
     "execution_count": 15,
     "metadata": {},
     "output_type": "execute_result"
    }
   ],
   "source": [
    "x_train"
   ]
  },
  {
   "cell_type": "code",
   "execution_count": null,
   "metadata": {},
   "outputs": [],
   "source": []
  }
 ],
 "metadata": {
  "kernelspec": {
   "display_name": "Python 3",
   "language": "python",
   "name": "python3"
  },
  "language_info": {
   "codemirror_mode": {
    "name": "ipython",
    "version": 3
   },
   "file_extension": ".py",
   "mimetype": "text/x-python",
   "name": "python",
   "nbconvert_exporter": "python",
   "pygments_lexer": "ipython3",
   "version": "3.7.4"
  }
 },
 "nbformat": 4,
 "nbformat_minor": 2
}
